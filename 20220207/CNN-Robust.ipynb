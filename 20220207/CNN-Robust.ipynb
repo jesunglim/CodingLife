{
 "cells": [
  {
   "cell_type": "code",
   "execution_count": 1,
   "id": "21e21d43",
   "metadata": {},
   "outputs": [],
   "source": [
    "# data analysis and wrangling\n",
    "import numpy as np\n",
    "import pandas as pd\n",
    "\n",
    "# data standardization\n",
    "from sklearn.preprocessing import RobustScaler\n",
    "from sklearn.preprocessing import StandardScaler\n",
    "from sklearn.preprocessing import MinMaxScaler\n",
    "\n",
    "# data visualization\n",
    "import seaborn as sns\n",
    "import matplotlib.pyplot as plt\n",
    "\n",
    "# deep learning\n",
    "from keras import models\n",
    "from keras import layers\n",
    "from tensorflow.keras.utils import to_categorical"
   ]
  },
  {
   "cell_type": "code",
   "execution_count": 2,
   "id": "db8d39b0",
   "metadata": {},
   "outputs": [],
   "source": [
    "train_df = pd.read_csv(\"preprocessed_train.csv\", encoding='euc-kr')"
   ]
  },
  {
   "cell_type": "code",
   "execution_count": 3,
   "id": "80a0071f",
   "metadata": {
    "scrolled": true
   },
   "outputs": [
    {
     "data": {
      "text/html": [
       "<div>\n",
       "<style scoped>\n",
       "    .dataframe tbody tr th:only-of-type {\n",
       "        vertical-align: middle;\n",
       "    }\n",
       "\n",
       "    .dataframe tbody tr th {\n",
       "        vertical-align: top;\n",
       "    }\n",
       "\n",
       "    .dataframe thead th {\n",
       "        text-align: right;\n",
       "    }\n",
       "</style>\n",
       "<table border=\"1\" class=\"dataframe\">\n",
       "  <thead>\n",
       "    <tr style=\"text-align: right;\">\n",
       "      <th></th>\n",
       "      <th>분석데이터</th>\n",
       "      <th>label</th>\n",
       "      <th>numstrings</th>\n",
       "      <th>avlength</th>\n",
       "      <th>printables</th>\n",
       "      <th>entropy</th>\n",
       "      <th>paths</th>\n",
       "      <th>urls</th>\n",
       "      <th>registry</th>\n",
       "      <th>MZ</th>\n",
       "      <th>...</th>\n",
       "      <th>dist_86</th>\n",
       "      <th>dist_87</th>\n",
       "      <th>dist_88</th>\n",
       "      <th>dist_89</th>\n",
       "      <th>dist_90</th>\n",
       "      <th>dist_91</th>\n",
       "      <th>dist_92</th>\n",
       "      <th>dist_93</th>\n",
       "      <th>dist_94</th>\n",
       "      <th>dist_95</th>\n",
       "    </tr>\n",
       "  </thead>\n",
       "  <tbody>\n",
       "    <tr>\n",
       "      <th>0</th>\n",
       "      <td>1</td>\n",
       "      <td>1</td>\n",
       "      <td>144</td>\n",
       "      <td>12.298611</td>\n",
       "      <td>1771</td>\n",
       "      <td>5.356616</td>\n",
       "      <td>0</td>\n",
       "      <td>0</td>\n",
       "      <td>0</td>\n",
       "      <td>1</td>\n",
       "      <td>...</td>\n",
       "      <td>10</td>\n",
       "      <td>4</td>\n",
       "      <td>10</td>\n",
       "      <td>9</td>\n",
       "      <td>4</td>\n",
       "      <td>0</td>\n",
       "      <td>1</td>\n",
       "      <td>0</td>\n",
       "      <td>0</td>\n",
       "      <td>0</td>\n",
       "    </tr>\n",
       "    <tr>\n",
       "      <th>1</th>\n",
       "      <td>2</td>\n",
       "      <td>1</td>\n",
       "      <td>804</td>\n",
       "      <td>9.580846</td>\n",
       "      <td>7703</td>\n",
       "      <td>6.063542</td>\n",
       "      <td>0</td>\n",
       "      <td>0</td>\n",
       "      <td>0</td>\n",
       "      <td>6</td>\n",
       "      <td>...</td>\n",
       "      <td>43</td>\n",
       "      <td>121</td>\n",
       "      <td>84</td>\n",
       "      <td>78</td>\n",
       "      <td>47</td>\n",
       "      <td>36</td>\n",
       "      <td>40</td>\n",
       "      <td>45</td>\n",
       "      <td>27</td>\n",
       "      <td>36</td>\n",
       "    </tr>\n",
       "    <tr>\n",
       "      <th>2</th>\n",
       "      <td>3</td>\n",
       "      <td>0</td>\n",
       "      <td>2205</td>\n",
       "      <td>12.736054</td>\n",
       "      <td>28083</td>\n",
       "      <td>6.107050</td>\n",
       "      <td>9</td>\n",
       "      <td>0</td>\n",
       "      <td>0</td>\n",
       "      <td>6</td>\n",
       "      <td>...</td>\n",
       "      <td>326</td>\n",
       "      <td>268</td>\n",
       "      <td>239</td>\n",
       "      <td>286</td>\n",
       "      <td>199</td>\n",
       "      <td>148</td>\n",
       "      <td>154</td>\n",
       "      <td>37</td>\n",
       "      <td>48</td>\n",
       "      <td>36</td>\n",
       "    </tr>\n",
       "    <tr>\n",
       "      <th>3</th>\n",
       "      <td>4</td>\n",
       "      <td>0</td>\n",
       "      <td>2602</td>\n",
       "      <td>10.288240</td>\n",
       "      <td>26770</td>\n",
       "      <td>5.373013</td>\n",
       "      <td>8</td>\n",
       "      <td>0</td>\n",
       "      <td>0</td>\n",
       "      <td>1</td>\n",
       "      <td>...</td>\n",
       "      <td>336</td>\n",
       "      <td>230</td>\n",
       "      <td>206</td>\n",
       "      <td>245</td>\n",
       "      <td>76</td>\n",
       "      <td>0</td>\n",
       "      <td>26</td>\n",
       "      <td>702</td>\n",
       "      <td>1</td>\n",
       "      <td>5</td>\n",
       "    </tr>\n",
       "    <tr>\n",
       "      <th>4</th>\n",
       "      <td>5</td>\n",
       "      <td>1</td>\n",
       "      <td>8980</td>\n",
       "      <td>23.252339</td>\n",
       "      <td>208806</td>\n",
       "      <td>5.775223</td>\n",
       "      <td>0</td>\n",
       "      <td>28</td>\n",
       "      <td>16</td>\n",
       "      <td>3</td>\n",
       "      <td>...</td>\n",
       "      <td>731</td>\n",
       "      <td>882</td>\n",
       "      <td>1171</td>\n",
       "      <td>1010</td>\n",
       "      <td>322</td>\n",
       "      <td>64</td>\n",
       "      <td>327</td>\n",
       "      <td>84</td>\n",
       "      <td>75</td>\n",
       "      <td>244</td>\n",
       "    </tr>\n",
       "    <tr>\n",
       "      <th>...</th>\n",
       "      <td>...</td>\n",
       "      <td>...</td>\n",
       "      <td>...</td>\n",
       "      <td>...</td>\n",
       "      <td>...</td>\n",
       "      <td>...</td>\n",
       "      <td>...</td>\n",
       "      <td>...</td>\n",
       "      <td>...</td>\n",
       "      <td>...</td>\n",
       "      <td>...</td>\n",
       "      <td>...</td>\n",
       "      <td>...</td>\n",
       "      <td>...</td>\n",
       "      <td>...</td>\n",
       "      <td>...</td>\n",
       "      <td>...</td>\n",
       "      <td>...</td>\n",
       "      <td>...</td>\n",
       "      <td>...</td>\n",
       "      <td>...</td>\n",
       "    </tr>\n",
       "    <tr>\n",
       "      <th>9995</th>\n",
       "      <td>9996</td>\n",
       "      <td>1</td>\n",
       "      <td>2018</td>\n",
       "      <td>13.938057</td>\n",
       "      <td>28127</td>\n",
       "      <td>5.940442</td>\n",
       "      <td>0</td>\n",
       "      <td>70</td>\n",
       "      <td>0</td>\n",
       "      <td>11</td>\n",
       "      <td>...</td>\n",
       "      <td>246</td>\n",
       "      <td>186</td>\n",
       "      <td>206</td>\n",
       "      <td>235</td>\n",
       "      <td>88</td>\n",
       "      <td>33</td>\n",
       "      <td>81</td>\n",
       "      <td>58</td>\n",
       "      <td>61</td>\n",
       "      <td>72</td>\n",
       "    </tr>\n",
       "    <tr>\n",
       "      <th>9996</th>\n",
       "      <td>9997</td>\n",
       "      <td>0</td>\n",
       "      <td>1105</td>\n",
       "      <td>16.437104</td>\n",
       "      <td>18163</td>\n",
       "      <td>5.766962</td>\n",
       "      <td>0</td>\n",
       "      <td>11</td>\n",
       "      <td>0</td>\n",
       "      <td>3</td>\n",
       "      <td>...</td>\n",
       "      <td>199</td>\n",
       "      <td>57</td>\n",
       "      <td>134</td>\n",
       "      <td>123</td>\n",
       "      <td>20</td>\n",
       "      <td>25</td>\n",
       "      <td>28</td>\n",
       "      <td>25</td>\n",
       "      <td>41</td>\n",
       "      <td>13</td>\n",
       "    </tr>\n",
       "    <tr>\n",
       "      <th>9997</th>\n",
       "      <td>9998</td>\n",
       "      <td>0</td>\n",
       "      <td>4</td>\n",
       "      <td>58.500000</td>\n",
       "      <td>234</td>\n",
       "      <td>3.811827</td>\n",
       "      <td>0</td>\n",
       "      <td>0</td>\n",
       "      <td>0</td>\n",
       "      <td>1</td>\n",
       "      <td>...</td>\n",
       "      <td>0</td>\n",
       "      <td>0</td>\n",
       "      <td>0</td>\n",
       "      <td>0</td>\n",
       "      <td>0</td>\n",
       "      <td>0</td>\n",
       "      <td>0</td>\n",
       "      <td>0</td>\n",
       "      <td>0</td>\n",
       "      <td>0</td>\n",
       "    </tr>\n",
       "    <tr>\n",
       "      <th>9998</th>\n",
       "      <td>9999</td>\n",
       "      <td>1</td>\n",
       "      <td>3312</td>\n",
       "      <td>24.939312</td>\n",
       "      <td>82599</td>\n",
       "      <td>5.834730</td>\n",
       "      <td>0</td>\n",
       "      <td>39</td>\n",
       "      <td>0</td>\n",
       "      <td>8</td>\n",
       "      <td>...</td>\n",
       "      <td>438</td>\n",
       "      <td>985</td>\n",
       "      <td>806</td>\n",
       "      <td>851</td>\n",
       "      <td>113</td>\n",
       "      <td>123</td>\n",
       "      <td>181</td>\n",
       "      <td>100</td>\n",
       "      <td>75</td>\n",
       "      <td>86</td>\n",
       "    </tr>\n",
       "    <tr>\n",
       "      <th>9999</th>\n",
       "      <td>10000</td>\n",
       "      <td>0</td>\n",
       "      <td>655</td>\n",
       "      <td>6.077863</td>\n",
       "      <td>3981</td>\n",
       "      <td>6.519481</td>\n",
       "      <td>0</td>\n",
       "      <td>0</td>\n",
       "      <td>0</td>\n",
       "      <td>4</td>\n",
       "      <td>...</td>\n",
       "      <td>44</td>\n",
       "      <td>32</td>\n",
       "      <td>26</td>\n",
       "      <td>32</td>\n",
       "      <td>28</td>\n",
       "      <td>30</td>\n",
       "      <td>33</td>\n",
       "      <td>23</td>\n",
       "      <td>26</td>\n",
       "      <td>32</td>\n",
       "    </tr>\n",
       "  </tbody>\n",
       "</table>\n",
       "<p>10000 rows × 618 columns</p>\n",
       "</div>"
      ],
      "text/plain": [
       "      분석데이터  label  numstrings   avlength  printables   entropy  paths  urls  \\\n",
       "0         1      1         144  12.298611        1771  5.356616      0     0   \n",
       "1         2      1         804   9.580846        7703  6.063542      0     0   \n",
       "2         3      0        2205  12.736054       28083  6.107050      9     0   \n",
       "3         4      0        2602  10.288240       26770  5.373013      8     0   \n",
       "4         5      1        8980  23.252339      208806  5.775223      0    28   \n",
       "...     ...    ...         ...        ...         ...       ...    ...   ...   \n",
       "9995   9996      1        2018  13.938057       28127  5.940442      0    70   \n",
       "9996   9997      0        1105  16.437104       18163  5.766962      0    11   \n",
       "9997   9998      0           4  58.500000         234  3.811827      0     0   \n",
       "9998   9999      1        3312  24.939312       82599  5.834730      0    39   \n",
       "9999  10000      0         655   6.077863        3981  6.519481      0     0   \n",
       "\n",
       "      registry  MZ  ...  dist_86  dist_87  dist_88  dist_89  dist_90  dist_91  \\\n",
       "0            0   1  ...       10        4       10        9        4        0   \n",
       "1            0   6  ...       43      121       84       78       47       36   \n",
       "2            0   6  ...      326      268      239      286      199      148   \n",
       "3            0   1  ...      336      230      206      245       76        0   \n",
       "4           16   3  ...      731      882     1171     1010      322       64   \n",
       "...        ...  ..  ...      ...      ...      ...      ...      ...      ...   \n",
       "9995         0  11  ...      246      186      206      235       88       33   \n",
       "9996         0   3  ...      199       57      134      123       20       25   \n",
       "9997         0   1  ...        0        0        0        0        0        0   \n",
       "9998         0   8  ...      438      985      806      851      113      123   \n",
       "9999         0   4  ...       44       32       26       32       28       30   \n",
       "\n",
       "      dist_92  dist_93  dist_94  dist_95  \n",
       "0           1        0        0        0  \n",
       "1          40       45       27       36  \n",
       "2         154       37       48       36  \n",
       "3          26      702        1        5  \n",
       "4         327       84       75      244  \n",
       "...       ...      ...      ...      ...  \n",
       "9995       81       58       61       72  \n",
       "9996       28       25       41       13  \n",
       "9997        0        0        0        0  \n",
       "9998      181      100       75       86  \n",
       "9999       33       23       26       32  \n",
       "\n",
       "[10000 rows x 618 columns]"
      ]
     },
     "execution_count": 3,
     "metadata": {},
     "output_type": "execute_result"
    }
   ],
   "source": [
    "train_df"
   ]
  },
  {
   "cell_type": "code",
   "execution_count": 4,
   "id": "94eb3f44",
   "metadata": {},
   "outputs": [],
   "source": [
    "train_df = train_df.drop(columns=['분석데이터'], axis=1)"
   ]
  },
  {
   "cell_type": "code",
   "execution_count": 5,
   "id": "2067c030",
   "metadata": {},
   "outputs": [],
   "source": [
    "train_images = train_df[:8000]\n",
    "train_labels = train_images['label']\n",
    "\n",
    "test_images = train_df[8000:]\n",
    "test_labels = test_images['label']\n",
    "\n",
    "\n",
    "train_images = train_images.drop(columns=['label'], axis=1)\n",
    "test_images = test_images.drop(columns=['label'], axis=1)"
   ]
  },
  {
   "cell_type": "code",
   "execution_count": 6,
   "id": "54cc1926",
   "metadata": {},
   "outputs": [
    {
     "data": {
      "text/plain": [
       "(8000, 616)"
      ]
     },
     "execution_count": 6,
     "metadata": {},
     "output_type": "execute_result"
    }
   ],
   "source": [
    "train_images.shape"
   ]
  },
  {
   "cell_type": "code",
   "execution_count": 7,
   "id": "699669d6",
   "metadata": {},
   "outputs": [
    {
     "data": {
      "text/plain": [
       "(2000, 616)"
      ]
     },
     "execution_count": 7,
     "metadata": {},
     "output_type": "execute_result"
    }
   ],
   "source": [
    "test_images.shape"
   ]
  },
  {
   "cell_type": "code",
   "execution_count": 8,
   "id": "2c3959f5",
   "metadata": {},
   "outputs": [
    {
     "data": {
      "text/plain": [
       "(8000,)"
      ]
     },
     "execution_count": 8,
     "metadata": {},
     "output_type": "execute_result"
    }
   ],
   "source": [
    "train_labels.shape"
   ]
  },
  {
   "cell_type": "code",
   "execution_count": 9,
   "id": "3027e8da",
   "metadata": {},
   "outputs": [
    {
     "data": {
      "text/plain": [
       "(2000,)"
      ]
     },
     "execution_count": 9,
     "metadata": {},
     "output_type": "execute_result"
    }
   ],
   "source": [
    "test_labels.shape"
   ]
  },
  {
   "cell_type": "markdown",
   "id": "e708951e",
   "metadata": {},
   "source": [
    "## 데이터 정형화"
   ]
  },
  {
   "cell_type": "code",
   "execution_count": 10,
   "id": "c05464b6",
   "metadata": {},
   "outputs": [
    {
     "data": {
      "text/plain": [
       "numstrings    3.786600e+05\n",
       "avlength      5.447628e+04\n",
       "printables    2.179051e+07\n",
       "entropy       6.584870e+00\n",
       "paths         9.897000e+03\n",
       "                  ...     \n",
       "dist_91       8.483400e+04\n",
       "dist_92       3.760200e+04\n",
       "dist_93       5.148000e+04\n",
       "dist_94       1.326000e+04\n",
       "dist_95       1.492800e+04\n",
       "Length: 616, dtype: float64"
      ]
     },
     "execution_count": 10,
     "metadata": {},
     "output_type": "execute_result"
    }
   ],
   "source": [
    "train_images.max()"
   ]
  },
  {
   "cell_type": "code",
   "execution_count": 11,
   "id": "95288882",
   "metadata": {},
   "outputs": [
    {
     "data": {
      "text/plain": [
       "Index(['numstrings', 'avlength', 'printables', 'entropy', 'paths', 'urls',\n",
       "       'registry', 'MZ', 'a_0', 'a_1',\n",
       "       ...\n",
       "       'dist_86', 'dist_87', 'dist_88', 'dist_89', 'dist_90', 'dist_91',\n",
       "       'dist_92', 'dist_93', 'dist_94', 'dist_95'],\n",
       "      dtype='object', length=616)"
      ]
     },
     "execution_count": 11,
     "metadata": {},
     "output_type": "execute_result"
    }
   ],
   "source": [
    "train_images.columns"
   ]
  },
  {
   "cell_type": "code",
   "execution_count": 12,
   "id": "a4b7557d",
   "metadata": {},
   "outputs": [],
   "source": [
    "# MinMax는 이상치에 취약하다"
   ]
  },
  {
   "cell_type": "code",
   "execution_count": 13,
   "id": "b88ca050",
   "metadata": {},
   "outputs": [],
   "source": [
    "train_images = train_images.to_numpy()"
   ]
  },
  {
   "cell_type": "code",
   "execution_count": 14,
   "id": "345ba959",
   "metadata": {},
   "outputs": [],
   "source": [
    "scaler = RobustScaler()"
   ]
  },
  {
   "cell_type": "code",
   "execution_count": 15,
   "id": "a38700c9",
   "metadata": {},
   "outputs": [],
   "source": [
    "scaler.fit(train_images)\n",
    "train_images = scaler.transform(train_images)"
   ]
  },
  {
   "cell_type": "code",
   "execution_count": 16,
   "id": "3725bbe2",
   "metadata": {},
   "outputs": [],
   "source": [
    "scaler.fit(test_images)\n",
    "test_images = scaler.transform(test_images)"
   ]
  },
  {
   "cell_type": "code",
   "execution_count": 17,
   "id": "c7a4ffdc",
   "metadata": {},
   "outputs": [
    {
     "data": {
      "text/plain": [
       "array([[-0.32009081, -0.02121233, -0.25814729, ..., -0.23474178,\n",
       "        -0.23757576, -0.2173913 ],\n",
       "       [-0.22020431, -0.28185204, -0.19004127, ..., -0.02347418,\n",
       "        -0.10666667, -0.06086957],\n",
       "       [-0.00817253,  0.02073946,  0.043944  , ..., -0.06103286,\n",
       "        -0.00484848, -0.06086957],\n",
       "       ...,\n",
       "       [ 0.45342414, -0.5670465 ,  0.1201442 , ...,  0.61032864,\n",
       "         0.64      ,  0.62173913],\n",
       "       [ 1.41642073, -0.63648936,  0.50623138, ...,  2.5915493 ,\n",
       "         2.79272727,  2.3826087 ],\n",
       "       [-0.24865683,  0.24361721, -0.17196999, ..., -0.17370892,\n",
       "        -0.15515152, -0.13478261]])"
      ]
     },
     "execution_count": 17,
     "metadata": {},
     "output_type": "execute_result"
    }
   ],
   "source": [
    "train_images"
   ]
  },
  {
   "cell_type": "code",
   "execution_count": 18,
   "id": "9fa5f39b",
   "metadata": {},
   "outputs": [
    {
     "data": {
      "text/plain": [
       "array([[ 0.23685977,  0.22291115,  0.38236502, ..., -0.04379562,\n",
       "        -0.00715137,  1.10590858],\n",
       "       [-0.18583896,  0.20718725, -0.13460351, ..., -0.18491484,\n",
       "        -0.15971395, -0.13377926],\n",
       "       [ 2.32097303, -0.64446215,  0.95546954, ...,  2.92457421,\n",
       "         4.31227652,  2.9386845 ],\n",
       "       ...,\n",
       "       [-0.31884058,  4.38159605, -0.29263797, ..., -0.22871046,\n",
       "        -0.21215733, -0.20512821],\n",
       "       [ 0.20368835,  1.18169206,  0.77271713, ...,  0.25790754,\n",
       "         0.1454112 ,  0.17837235],\n",
       "       [-0.21600916, -0.6166866 , -0.24417217, ..., -0.11678832,\n",
       "        -0.08820024, -0.06243032]])"
      ]
     },
     "execution_count": 18,
     "metadata": {},
     "output_type": "execute_result"
    }
   ],
   "source": [
    "test_images"
   ]
  },
  {
   "cell_type": "code",
   "execution_count": 19,
   "id": "d4cc8c55",
   "metadata": {},
   "outputs": [
    {
     "data": {
      "text/plain": [
       "(616,)"
      ]
     },
     "execution_count": 19,
     "metadata": {},
     "output_type": "execute_result"
    }
   ],
   "source": [
    "test_images[1].shape"
   ]
  },
  {
   "cell_type": "markdown",
   "id": "53cedb43",
   "metadata": {},
   "source": [
    "### resize array for image"
   ]
  },
  {
   "cell_type": "markdown",
   "id": "ce078ce7",
   "metadata": {},
   "source": [
    "## deep learning layer"
   ]
  },
  {
   "cell_type": "code",
   "execution_count": 20,
   "id": "906e0ae2",
   "metadata": {},
   "outputs": [],
   "source": [
    "network = models.Sequential()\n",
    "network.add(layers.Dense(100, activation='relu', input_shape=(616,)))\n",
    "network.add(layers.Dense(1, activation='sigmoid'))"
   ]
  },
  {
   "cell_type": "code",
   "execution_count": 21,
   "id": "07bd1c14",
   "metadata": {},
   "outputs": [],
   "source": [
    "network.compile(optimizer='rmsprop',\n",
    "                loss='binary_crossentropy',\n",
    "                metrics=['accuracy'])"
   ]
  },
  {
   "cell_type": "code",
   "execution_count": 22,
   "id": "6b8cf65f",
   "metadata": {},
   "outputs": [],
   "source": [
    "#train_labels = to_categorical(train_labels)\n",
    "#test_labels = to_categorical(test_labels)"
   ]
  },
  {
   "cell_type": "code",
   "execution_count": 23,
   "id": "4269b63b",
   "metadata": {},
   "outputs": [
    {
     "name": "stdout",
     "output_type": "stream",
     "text": [
      "Epoch 1/6\n",
      "500/500 [==============================] - 2s 2ms/step - loss: 49.5841 - accuracy: 0.7036 - val_loss: 21.0257 - val_accuracy: 0.7620\n",
      "Epoch 2/6\n",
      "500/500 [==============================] - 1s 2ms/step - loss: 26.9005 - accuracy: 0.7588 - val_loss: 28.5971 - val_accuracy: 0.7790\n",
      "Epoch 3/6\n",
      "500/500 [==============================] - 1s 2ms/step - loss: 52.6529 - accuracy: 0.7822 - val_loss: 33.5663 - val_accuracy: 0.8005\n",
      "Epoch 4/6\n",
      "500/500 [==============================] - 1s 2ms/step - loss: 54.6170 - accuracy: 0.8000 - val_loss: 48.1649 - val_accuracy: 0.8015\n",
      "Epoch 5/6\n",
      "500/500 [==============================] - 1s 2ms/step - loss: 35.1061 - accuracy: 0.8050 - val_loss: 26.6314 - val_accuracy: 0.8145\n",
      "Epoch 6/6\n",
      "500/500 [==============================] - 1s 2ms/step - loss: 37.1329 - accuracy: 0.8135 - val_loss: 46.3216 - val_accuracy: 0.8195\n"
     ]
    }
   ],
   "source": [
    "history = network.fit(train_images, train_labels, epochs=6, batch_size=16, validation_data=(test_images, test_labels))"
   ]
  },
  {
   "cell_type": "code",
   "execution_count": 24,
   "id": "224613f7",
   "metadata": {},
   "outputs": [
    {
     "name": "stdout",
     "output_type": "stream",
     "text": [
      "63/63 [==============================] - 0s 1ms/step - loss: 46.3216 - accuracy: 0.8195\n"
     ]
    }
   ],
   "source": [
    "test_loss, test_acc = network.evaluate(test_images, test_labels)"
   ]
  },
  {
   "cell_type": "code",
   "execution_count": 25,
   "id": "ab7175ca",
   "metadata": {},
   "outputs": [
    {
     "name": "stdout",
     "output_type": "stream",
     "text": [
      "test_acc: 0.8195000290870667\n"
     ]
    }
   ],
   "source": [
    "print('test_acc:', test_acc)"
   ]
  },
  {
   "cell_type": "code",
   "execution_count": 26,
   "id": "7d97fb9a",
   "metadata": {},
   "outputs": [],
   "source": [
    "history_dict = history.history"
   ]
  },
  {
   "cell_type": "code",
   "execution_count": 27,
   "id": "cf79fc9b",
   "metadata": {},
   "outputs": [
    {
     "data": {
      "text/plain": [
       "dict_keys(['loss', 'accuracy', 'val_loss', 'val_accuracy'])"
      ]
     },
     "execution_count": 27,
     "metadata": {},
     "output_type": "execute_result"
    }
   ],
   "source": [
    "history_dict.keys()"
   ]
  },
  {
   "cell_type": "code",
   "execution_count": 28,
   "id": "cb502a74",
   "metadata": {},
   "outputs": [
    {
     "data": {
      "image/png": "[encoded data removed]",
      "text/plain": [
       "<Figure size 432x288 with 1 Axes>"
      ]
     },
     "metadata": {
      "needs_background": "light"
     },
     "output_type": "display_data"
    }
   ],
   "source": [
    "history_dict = history.history\n",
    "loss = history_dict['loss']\n",
    "val_loss = history_dict['val_loss']\n",
    "\n",
    "epochs = range(1, len(loss) + 1)\n",
    "\n",
    "plt.plot(epochs, loss, 'bo', label='Training loss')  # ‘bo’는 파란색 점을 의미합니다.\n",
    "plt.plot(epochs, val_loss, 'b', label='Validation loss') # ‘b’는 파란색 실선을 의미합니다.\n",
    "plt.title('Training and validation loss')\n",
    "plt.xlabel('Epochs')\n",
    "plt.ylabel('Loss')\n",
    "plt.legend()\n",
    "\n",
    "plt.show()"
   ]
  },
  {
   "cell_type": "code",
   "execution_count": 29,
   "id": "83b55abe",
   "metadata": {},
   "outputs": [
    {
     "data": {
      "image/png": "[encoded data removed]",
      "text/plain": [
       "<Figure size 432x288 with 1 Axes>"
      ]
     },
     "metadata": {
      "needs_background": "light"
     },
     "output_type": "display_data"
    }
   ],
   "source": [
    "plt.clf() # 그래프를 초기화합니다.\n",
    "acc = history_dict['accuracy']\n",
    "val_acc = history_dict['val_accuracy']\n",
    "\n",
    "plt.plot(epochs, acc, 'bo', label='Training acc')\n",
    "plt.plot(epochs, val_acc, 'b', label='Validation acc')\n",
    "plt.title('Training and validation accuracy')\n",
    "plt.xlabel('Epochs')\n",
    "plt.ylabel('Accuracy')\n",
    "plt.legend()\n",
    "\n",
    "plt.show()"
   ]
  }
 ],
 "metadata": {
  "kernelspec": {
   "display_name": "Python 3 (ipykernel)",
   "language": "python",
   "name": "python3"
  },
  "language_info": {
   "codemirror_mode": {
    "name": "ipython",
    "version": 3
   },
   "file_extension": ".py",
   "mimetype": "text/x-python",
   "name": "python",
   "nbconvert_exporter": "python",
   "pygments_lexer": "ipython3",
   "version": "3.9.10"
  }
 },
 "nbformat": 4,
 "nbformat_minor": 5
}
