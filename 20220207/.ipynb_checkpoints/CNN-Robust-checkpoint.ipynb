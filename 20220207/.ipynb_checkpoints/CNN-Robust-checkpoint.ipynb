{
 "cells": [
  {
   "cell_type": "code",
   "execution_count": 1,
   "id": "21e21d43",
   "metadata": {},
   "outputs": [
    {
     "ename": "ModuleNotFoundError",
     "evalue": "No module named 'pandas'",
     "output_type": "error",
     "traceback": [
      "\u001b[1;31m---------------------------------------------------------------------------\u001b[0m",
      "\u001b[1;31mModuleNotFoundError\u001b[0m                       Traceback (most recent call last)",
      "Input \u001b[1;32mIn [1]\u001b[0m, in \u001b[0;36m<module>\u001b[1;34m\u001b[0m\n\u001b[0;32m      1\u001b[0m \u001b[38;5;66;03m# data analysis and wrangling\u001b[39;00m\n\u001b[0;32m      2\u001b[0m \u001b[38;5;28;01mimport\u001b[39;00m \u001b[38;5;21;01mnumpy\u001b[39;00m \u001b[38;5;28;01mas\u001b[39;00m \u001b[38;5;21;01mnp\u001b[39;00m\n\u001b[1;32m----> 3\u001b[0m \u001b[38;5;28;01mimport\u001b[39;00m \u001b[38;5;21;01mpandas\u001b[39;00m \u001b[38;5;28;01mas\u001b[39;00m \u001b[38;5;21;01mpd\u001b[39;00m\n\u001b[0;32m      4\u001b[0m \u001b[38;5;28;01mimport\u001b[39;00m \u001b[38;5;21;01mjson\u001b[39;00m\n\u001b[0;32m      6\u001b[0m \u001b[38;5;66;03m# data standardization\u001b[39;00m\n",
      "\u001b[1;31mModuleNotFoundError\u001b[0m: No module named 'pandas'"
     ]
    }
   ],
   "source": [
    "# data analysis and wrangling\n",
    "import numpy as np\n",
    "import pandas as pd\n",
    "\n",
    "# data standardization\n",
    "from sklearn.preprocessing import RobustScaler\n",
    "from sklearn.preprocessing import StandardScaler\n",
    "from sklearn.preprocessing import MinMaxScaler\n",
    "\n",
    "# data visualization\n",
    "import seaborn as sns\n",
    "import matplotlib.pyplot as plt\n",
    "\n",
    "# deep learning\n",
    "from keras import models\n",
    "from keras import layers\n",
    "from tensorflow.keras.utils import to_categorical"
   ]
  },
  {
   "cell_type": "code",
   "execution_count": null,
   "id": "db8d39b0",
   "metadata": {},
   "outputs": [],
   "source": [
    "train_df = pd.read_csv(\"preprocessed_train.csv\", encoding='euc-kr')"
   ]
  },
  {
   "cell_type": "code",
   "execution_count": null,
   "id": "80a0071f",
   "metadata": {
    "scrolled": true
   },
   "outputs": [],
   "source": [
    "train_df"
   ]
  },
  {
   "cell_type": "code",
   "execution_count": null,
   "id": "94eb3f44",
   "metadata": {},
   "outputs": [],
   "source": [
    "train_df = train_df.drop(columns=['분석데이터'], axis=1)"
   ]
  },
  {
   "cell_type": "code",
   "execution_count": null,
   "id": "2067c030",
   "metadata": {},
   "outputs": [],
   "source": [
    "train_images = train_df[:8000]\n",
    "train_labels = train_images['label']\n",
    "\n",
    "test_images = train_df[8000:]\n",
    "test_labels = test_images['label']\n",
    "\n",
    "\n",
    "train_images = train_images.drop(columns=['label'], axis=1)\n",
    "test_images = test_images.drop(columns=['label'], axis=1)"
   ]
  },
  {
   "cell_type": "code",
   "execution_count": null,
   "id": "54cc1926",
   "metadata": {},
   "outputs": [],
   "source": [
    "train_images.shape"
   ]
  },
  {
   "cell_type": "code",
   "execution_count": null,
   "id": "699669d6",
   "metadata": {},
   "outputs": [],
   "source": [
    "test_images.shape"
   ]
  },
  {
   "cell_type": "code",
   "execution_count": null,
   "id": "2c3959f5",
   "metadata": {},
   "outputs": [],
   "source": [
    "train_labels.shape"
   ]
  },
  {
   "cell_type": "code",
   "execution_count": null,
   "id": "3027e8da",
   "metadata": {},
   "outputs": [],
   "source": [
    "test_labels.shape"
   ]
  },
  {
   "cell_type": "markdown",
   "id": "e708951e",
   "metadata": {},
   "source": [
    "## 데이터 정형화"
   ]
  },
  {
   "cell_type": "code",
   "execution_count": null,
   "id": "c05464b6",
   "metadata": {},
   "outputs": [],
   "source": [
    "train_images.max()"
   ]
  },
  {
   "cell_type": "code",
   "execution_count": null,
   "id": "95288882",
   "metadata": {},
   "outputs": [],
   "source": [
    "train_images.columns"
   ]
  },
  {
   "cell_type": "code",
   "execution_count": null,
   "id": "a4b7557d",
   "metadata": {},
   "outputs": [],
   "source": [
    "# MinMax는 이상치에 취약하다"
   ]
  },
  {
   "cell_type": "code",
   "execution_count": null,
   "id": "b88ca050",
   "metadata": {},
   "outputs": [],
   "source": [
    "train_images = train_images.to_numpy()"
   ]
  },
  {
   "cell_type": "code",
   "execution_count": null,
   "id": "345ba959",
   "metadata": {},
   "outputs": [],
   "source": [
    "scaler = RobustScaler()"
   ]
  },
  {
   "cell_type": "code",
   "execution_count": null,
   "id": "a38700c9",
   "metadata": {},
   "outputs": [],
   "source": [
    "scaler.fit(train_images)\n",
    "train_images = scaler.transform(train_images)"
   ]
  },
  {
   "cell_type": "code",
   "execution_count": null,
   "id": "3725bbe2",
   "metadata": {},
   "outputs": [],
   "source": [
    "scaler.fit(test_images)\n",
    "test_images = scaler.transform(test_images)"
   ]
  },
  {
   "cell_type": "code",
   "execution_count": null,
   "id": "c7a4ffdc",
   "metadata": {},
   "outputs": [],
   "source": [
    "train_images"
   ]
  },
  {
   "cell_type": "code",
   "execution_count": null,
   "id": "9fa5f39b",
   "metadata": {},
   "outputs": [],
   "source": [
    "test_images"
   ]
  },
  {
   "cell_type": "code",
   "execution_count": null,
   "id": "d4cc8c55",
   "metadata": {},
   "outputs": [],
   "source": [
    "test_images[1].shape"
   ]
  },
  {
   "cell_type": "markdown",
   "id": "53cedb43",
   "metadata": {},
   "source": [
    "### resize array for image"
   ]
  },
  {
   "cell_type": "markdown",
   "id": "ce078ce7",
   "metadata": {},
   "source": [
    "## deep learning layer"
   ]
  },
  {
   "cell_type": "code",
   "execution_count": null,
   "id": "906e0ae2",
   "metadata": {},
   "outputs": [],
   "source": [
    "network = models.Sequential()\n",
    "network.add(layers.Dense(100, activation='relu', input_shape=(616,)))\n",
    "network.add(layers.Dense(1, activation='sigmoid'))"
   ]
  },
  {
   "cell_type": "code",
   "execution_count": null,
   "id": "07bd1c14",
   "metadata": {},
   "outputs": [],
   "source": [
    "network.compile(optimizer='rmsprop',\n",
    "                loss='binary_crossentropy',\n",
    "                metrics=['accuracy'])"
   ]
  },
  {
   "cell_type": "code",
   "execution_count": null,
   "id": "6b8cf65f",
   "metadata": {},
   "outputs": [],
   "source": [
    "#train_labels = to_categorical(train_labels)\n",
    "#test_labels = to_categorical(test_labels)"
   ]
  },
  {
   "cell_type": "code",
   "execution_count": null,
   "id": "4269b63b",
   "metadata": {},
   "outputs": [],
   "source": [
    "history = network.fit(train_images, train_labels, epochs=6, batch_size=16, validation_data=(test_images, test_labels))"
   ]
  },
  {
   "cell_type": "code",
   "execution_count": null,
   "id": "224613f7",
   "metadata": {},
   "outputs": [],
   "source": [
    "test_loss, test_acc = network.evaluate(test_images, test_labels)"
   ]
  },
  {
   "cell_type": "code",
   "execution_count": null,
   "id": "ab7175ca",
   "metadata": {},
   "outputs": [],
   "source": [
    "print('test_acc:', test_acc)"
   ]
  },
  {
   "cell_type": "code",
   "execution_count": null,
   "id": "7d97fb9a",
   "metadata": {},
   "outputs": [],
   "source": [
    "history_dict = history.history"
   ]
  },
  {
   "cell_type": "code",
   "execution_count": null,
   "id": "cf79fc9b",
   "metadata": {},
   "outputs": [],
   "source": [
    "history_dict.keys()"
   ]
  },
  {
   "cell_type": "code",
   "execution_count": null,
   "id": "cb502a74",
   "metadata": {},
   "outputs": [],
   "source": [
    "history_dict = history.history\n",
    "loss = history_dict['loss']\n",
    "val_loss = history_dict['val_loss']\n",
    "\n",
    "epochs = range(1, len(loss) + 1)\n",
    "\n",
    "plt.plot(epochs, loss, 'bo', label='Training loss')  # ‘bo’는 파란색 점을 의미합니다.\n",
    "plt.plot(epochs, val_loss, 'b', label='Validation loss') # ‘b’는 파란색 실선을 의미합니다.\n",
    "plt.title('Training and validation loss')\n",
    "plt.xlabel('Epochs')\n",
    "plt.ylabel('Loss')\n",
    "plt.legend()\n",
    "\n",
    "plt.show()"
   ]
  },
  {
   "cell_type": "code",
   "execution_count": null,
   "id": "83b55abe",
   "metadata": {},
   "outputs": [],
   "source": [
    "plt.clf() # 그래프를 초기화합니다.\n",
    "acc = history_dict['accuracy']\n",
    "val_acc = history_dict['val_accuracy']\n",
    "\n",
    "plt.plot(epochs, acc, 'bo', label='Training acc')\n",
    "plt.plot(epochs, val_acc, 'b', label='Validation acc')\n",
    "plt.title('Training and validation accuracy')\n",
    "plt.xlabel('Epochs')\n",
    "plt.ylabel('Accuracy')\n",
    "plt.legend()\n",
    "\n",
    "plt.show()"
   ]
  }
 ],
 "metadata": {
  "kernelspec": {
   "display_name": "Python 3 (ipykernel)",
   "language": "python",
   "name": "python3"
  },
  "language_info": {
   "codemirror_mode": {
    "name": "ipython",
    "version": 3
   },
   "file_extension": ".py",
   "mimetype": "text/x-python",
   "name": "python",
   "nbconvert_exporter": "python",
   "pygments_lexer": "ipython3",
   "version": "3.9.10"
  }
 },
 "nbformat": 4,
 "nbformat_minor": 5
}
