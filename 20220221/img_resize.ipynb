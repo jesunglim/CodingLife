{
 "cells": [
  {
   "cell_type": "code",
   "execution_count": 1,
   "id": "16f217c4",
   "metadata": {},
   "outputs": [],
   "source": [
    "from PIL import Image\n",
    "\n",
    "import os"
   ]
  },
  {
   "cell_type": "code",
   "execution_count": 2,
   "id": "9a793b67",
   "metadata": {},
   "outputs": [],
   "source": [
    "path = \"pig_img\\\\\"\n",
    "file_list = os.listdir(path)"
   ]
  },
  {
   "cell_type": "code",
   "execution_count": 3,
   "id": "a0e87846",
   "metadata": {},
   "outputs": [
    {
     "name": "stdout",
     "output_type": "stream",
     "text": [
      "['pig13.jpg', 'pig14.jpg', 'pig17.jpg', 'pig19.jpg', 'pig20.jpg', 'pig21.jpg', 'pig22.jpg', 'pig24.jpg', 'pig25.jpg', 'pig28.jpg', 'pig29.jpg', 'pig30.jpg', 'pig31.jpg', 'pig32.jpg', 'pig33.jpg', 'pig35.jpg', 'pig36.jpg', 'pig38.jpg', 'pig40.jpg', 'pig42.jpg', 'pig45.jpg', 'pig46.jpg', 'pig49.jpg', 'pig50.jpg', 'pig51.jpg', 'pig52.jpg', 'pig53.jpg', 'pig56.jpg', 'pig6.jpg', 'pig61.jpg', 'pig62.jpg', 'pig65.jpg', 'pig66.jpg', 'pig67.jpg', 'pig68.jpg', 'pig69.jpg', 'pig8.jpg']\n"
     ]
    }
   ],
   "source": [
    "print(file_list)"
   ]
  },
  {
   "cell_type": "code",
   "execution_count": 4,
   "id": "37a5e36b",
   "metadata": {},
   "outputs": [],
   "source": [
    "for i in file_list:\n",
    "    img = Image.open(path + i )\n",
    "    img_resize = img.resize((255,255))\n",
    "    img_resize.save('pig_reimg\\\\' + i )"
   ]
  },
  {
   "cell_type": "code",
   "execution_count": null,
   "id": "a0388d7f",
   "metadata": {},
   "outputs": [],
   "source": []
  },
  {
   "cell_type": "code",
   "execution_count": null,
   "id": "5b06c003",
   "metadata": {},
   "outputs": [],
   "source": []
  }
 ],
 "metadata": {
  "kernelspec": {
   "display_name": "Python 3 (ipykernel)",
   "language": "python",
   "name": "python3"
  },
  "language_info": {
   "codemirror_mode": {
    "name": "ipython",
    "version": 3
   },
   "file_extension": ".py",
   "mimetype": "text/x-python",
   "name": "python",
   "nbconvert_exporter": "python",
   "pygments_lexer": "ipython3",
   "version": "3.9.9"
  }
 },
 "nbformat": 4,
 "nbformat_minor": 5
}
