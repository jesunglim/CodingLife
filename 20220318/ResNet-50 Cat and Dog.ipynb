{
 "cells": [
  {
   "cell_type": "code",
   "execution_count": 1,
   "id": "3d940eb8",
   "metadata": {},
   "outputs": [],
   "source": [
    "import os\n",
    "from tensorflow.keras.preprocessing.image import ImageDataGenerator"
   ]
  },
  {
   "cell_type": "code",
   "execution_count": 2,
   "id": "b91669e4",
   "metadata": {},
   "outputs": [],
   "source": [
    "os.environ['TF_ENABLE_WINOGRAD_NONFUSED'] = '1'"
   ]
  },
  {
   "cell_type": "code",
   "execution_count": 3,
   "id": "c6b6a15d",
   "metadata": {},
   "outputs": [],
   "source": [
    "rootPath = './datasets'"
   ]
  },
  {
   "cell_type": "code",
   "execution_count": 4,
   "id": "519cdca4",
   "metadata": {},
   "outputs": [
    {
     "name": "stdout",
     "output_type": "stream",
     "text": [
      "Found 7205 images belonging to 2 classes.\n",
      "Found 800 images belonging to 2 classes.\n"
     ]
    }
   ],
   "source": [
    "imageGenerator = ImageDataGenerator(\n",
    "    rescale=1./255,\n",
    "    rotation_range=20,\n",
    "    width_shift_range=0.1,\n",
    "    height_shift_range=0.1,\n",
    "    brightness_range=[.2, .2],\n",
    "    horizontal_flip=True,\n",
    "    validation_split=.1\n",
    ")\n",
    "\n",
    "trainGen = imageGenerator.flow_from_directory(\n",
    "    os.path.join(rootPath, 'training_set'),\n",
    "    target_size=(64, 64),\n",
    "    subset='training'\n",
    ")\n",
    "\n",
    "validationGen = imageGenerator.flow_from_directory(\n",
    "    os.path.join(rootPath, 'training_set'),\n",
    "    target_size=(64, 64),\n",
    "    subset='validation'\n",
    ")"
   ]
  },
  {
   "cell_type": "markdown",
   "id": "9b163315",
   "metadata": {},
   "source": [
    "# Model"
   ]
  },
  {
   "cell_type": "code",
   "execution_count": 5,
   "id": "6c56664e",
   "metadata": {},
   "outputs": [
    {
     "name": "stdout",
     "output_type": "stream",
     "text": [
      "Model: \"sequential\"\n",
      "_________________________________________________________________\n",
      " Layer (type)                Output Shape              Param #   \n",
      "=================================================================\n",
      " resnet50 (Functional)       (None, 2)                 23591810  \n",
      "                                                                 \n",
      "=================================================================\n",
      "Total params: 23,591,810\n",
      "Trainable params: 23,538,690\n",
      "Non-trainable params: 53,120\n",
      "_________________________________________________________________\n"
     ]
    }
   ],
   "source": [
    "from tensorflow.keras.applications import ResNet50\n",
    "from tensorflow.keras.models import Sequential\n",
    "from tensorflow.keras import layers\n",
    "\n",
    "model = Sequential()\n",
    "model.add(ResNet50(include_top=True, weights=None, input_shape=(64, 64, 3), classes=2))\n",
    "\n",
    "model.summary()"
   ]
  },
  {
   "cell_type": "code",
   "execution_count": 6,
   "id": "d7adaa0d",
   "metadata": {},
   "outputs": [],
   "source": [
    "model.compile(\n",
    "    optimizer='adam',\n",
    "    loss='binary_crossentropy', \n",
    "    metrics=['acc'],\n",
    ")"
   ]
  },
  {
   "cell_type": "code",
   "execution_count": 7,
   "id": "39c11e7c",
   "metadata": {},
   "outputs": [
    {
     "name": "stderr",
     "output_type": "stream",
     "text": [
      "C:\\Users\\jesung\\AppData\\Local\\Temp/ipykernel_7892/2161297457.py:2: UserWarning: `Model.fit_generator` is deprecated and will be removed in a future version. Please use `Model.fit`, which supports generators.\n",
      "  history = model.fit_generator(\n"
     ]
    },
    {
     "name": "stdout",
     "output_type": "stream",
     "text": [
      "Epoch 1/32\n",
      "226/225 [==============================] - ETA: 0s - loss: 0.7593 - acc: 0.5839WARNING:tensorflow:Your input ran out of data; interrupting training. Make sure that your dataset or generator can generate at least `steps_per_epoch * epochs` batches (in this case, 225.15625 batches). You may need to use the repeat() function when building your dataset.\n",
      "225/225 [==============================] - 103s 432ms/step - loss: 0.7593 - acc: 0.5839 - val_loss: 1.9274 - val_acc: 0.5000\n",
      "Epoch 2/32\n",
      "225/225 [==============================] - 91s 403ms/step - loss: 0.6287 - acc: 0.6555\n",
      "Epoch 3/32\n",
      "225/225 [==============================] - 91s 403ms/step - loss: 0.5971 - acc: 0.6992\n",
      "Epoch 4/32\n",
      "225/225 [==============================] - 91s 403ms/step - loss: 0.5773 - acc: 0.7026\n",
      "Epoch 5/32\n",
      "225/225 [==============================] - 91s 403ms/step - loss: 0.5298 - acc: 0.7348\n",
      "Epoch 6/32\n",
      "225/225 [==============================] - 91s 403ms/step - loss: 0.5214 - acc: 0.7489\n",
      "Epoch 7/32\n",
      "225/225 [==============================] - 91s 403ms/step - loss: 0.5129 - acc: 0.7591\n",
      "Epoch 8/32\n",
      "225/225 [==============================] - 91s 403ms/step - loss: 0.4681 - acc: 0.7795\n",
      "Epoch 9/32\n",
      "225/225 [==============================] - 91s 403ms/step - loss: 0.4921 - acc: 0.7663\n",
      "Epoch 10/32\n",
      "225/225 [==============================] - 91s 403ms/step - loss: 0.4702 - acc: 0.7833\n",
      "Epoch 11/32\n",
      "225/225 [==============================] - 91s 403ms/step - loss: 0.4547 - acc: 0.7983\n",
      "Epoch 12/32\n",
      "225/225 [==============================] - 91s 404ms/step - loss: 0.4459 - acc: 0.7935\n",
      "Epoch 13/32\n",
      "225/225 [==============================] - 91s 405ms/step - loss: 0.4201 - acc: 0.8083\n",
      "Epoch 14/32\n",
      "225/225 [==============================] - 91s 403ms/step - loss: 0.3899 - acc: 0.8198\n",
      "Epoch 15/32\n",
      "225/225 [==============================] - 91s 403ms/step - loss: 0.4011 - acc: 0.8187\n",
      "Epoch 16/32\n",
      "225/225 [==============================] - 91s 403ms/step - loss: 0.3849 - acc: 0.8246\n",
      "Epoch 17/32\n",
      "225/225 [==============================] - 91s 403ms/step - loss: 0.3874 - acc: 0.8293\n",
      "Epoch 18/32\n",
      "225/225 [==============================] - 91s 406ms/step - loss: 0.3719 - acc: 0.8332\n",
      "Epoch 19/32\n",
      "225/225 [==============================] - 92s 406ms/step - loss: 0.3543 - acc: 0.8416\n",
      "Epoch 20/32\n",
      "225/225 [==============================] - 93s 411ms/step - loss: 0.3572 - acc: 0.8418\n",
      "Epoch 21/32\n",
      "225/225 [==============================] - 92s 408ms/step - loss: 0.3994 - acc: 0.8232\n",
      "Epoch 22/32\n",
      "225/225 [==============================] - 91s 405ms/step - loss: 0.3275 - acc: 0.8525\n",
      "Epoch 23/32\n",
      "225/225 [==============================] - 91s 404ms/step - loss: 0.3435 - acc: 0.8502\n",
      "Epoch 24/32\n",
      "225/225 [==============================] - 91s 406ms/step - loss: 0.3293 - acc: 0.8540\n",
      "Epoch 25/32\n",
      "225/225 [==============================] - 91s 405ms/step - loss: 0.3643 - acc: 0.8400\n",
      "Epoch 26/32\n",
      "225/225 [==============================] - 91s 406ms/step - loss: 0.4031 - acc: 0.8255\n",
      "Epoch 27/32\n",
      "225/225 [==============================] - 91s 404ms/step - loss: 0.3424 - acc: 0.8504\n",
      "Epoch 28/32\n",
      "225/225 [==============================] - 91s 404ms/step - loss: 0.3529 - acc: 0.8468\n",
      "Epoch 29/32\n",
      "225/225 [==============================] - 91s 404ms/step - loss: 0.3491 - acc: 0.8480\n",
      "Epoch 30/32\n",
      "225/225 [==============================] - 58s 258ms/step - loss: 0.3041 - acc: 0.8727\n",
      "Epoch 31/32\n",
      "225/225 [==============================] - 40s 176ms/step - loss: 0.3683 - acc: 0.8315\n",
      "Epoch 32/32\n",
      "225/225 [==============================] - 40s 175ms/step - loss: 0.5681 - acc: 0.7120\n"
     ]
    }
   ],
   "source": [
    "epochs = 32\n",
    "history = model.fit_generator(\n",
    "    trainGen, \n",
    "    epochs=epochs,\n",
    "    steps_per_epoch=trainGen.samples / epochs, \n",
    "    validation_data=validationGen,\n",
    "    validation_steps=trainGen.samples / epochs,\n",
    ")"
   ]
  },
  {
   "cell_type": "markdown",
   "id": "aa14c9cd",
   "metadata": {},
   "source": [
    "## 학습결과 시각화"
   ]
  },
  {
   "cell_type": "code",
   "execution_count": 15,
   "id": "e2f7b584",
   "metadata": {},
   "outputs": [
    {
     "data": {
      "image/png": "[encoded data removed]",
      "text/plain": [
       "<Figure size 432x288 with 1 Axes>"
      ]
     },
     "metadata": {
      "needs_background": "light"
     },
     "output_type": "display_data"
    },
    {
     "data": {
      "image/png": "[encoded data removed]",
      "text/plain": [
       "<Figure size 432x288 with 1 Axes>"
      ]
     },
     "metadata": {
      "needs_background": "light"
     },
     "output_type": "display_data"
    }
   ],
   "source": [
    "import matplotlib.pyplot as plt\n",
    "\n",
    "# 학습 정확성 값과 검증 정확성 값을 플롯팅 합니다. \n",
    "plt.plot(history.history['acc'])\n",
    "plt.plot(history.history['val_acc'])\n",
    "plt.title('Model accuracy')\n",
    "plt.ylabel('Accuracy')\n",
    "plt.xlabel('Epoch')\n",
    "plt.legend(['Train', 'Test'], loc='upper left')\n",
    "plt.show()\n",
    "\n",
    "# 학습 손실 값과 검증 손실 값을 플롯팅 합니다.\n",
    "plt.plot(history.history['loss'])\n",
    "plt.plot(history.history['val_loss'])\n",
    "plt.title('Model loss')\n",
    "plt.ylabel('Loss')\n",
    "plt.xlabel('Epoch')\n",
    "plt.legend(['Train', 'Test'], loc='upper left')\n",
    "plt.show()"
   ]
  },
  {
   "cell_type": "markdown",
   "id": "c7bf35dc",
   "metadata": {},
   "source": [
    "### 모델 중간 평가"
   ]
  },
  {
   "cell_type": "code",
   "execution_count": 16,
   "id": "bc084fb5",
   "metadata": {},
   "outputs": [
    {
     "name": "stdout",
     "output_type": "stream",
     "text": [
      "Found 2023 images belonging to 2 classes.\n"
     ]
    },
    {
     "name": "stderr",
     "output_type": "stream",
     "text": [
      "C:\\Users\\jesung\\AppData\\Local\\Temp/ipykernel_7892/3147658836.py:10: UserWarning: `Model.evaluate_generator` is deprecated and will be removed in a future version. Please use `Model.evaluate`, which supports generators.\n",
      "  model.evaluate_generator(testGen)\n"
     ]
    },
    {
     "data": {
      "text/plain": [
       "[1.4983316659927368, 0.5788432955741882]"
      ]
     },
     "execution_count": 16,
     "metadata": {},
     "output_type": "execute_result"
    }
   ],
   "source": [
    "testGenerator = ImageDataGenerator(\n",
    "    rescale=1./255\n",
    ")\n",
    "\n",
    "testGen = imageGenerator.flow_from_directory(\n",
    "    os.path.join(rootPath, 'test_set'),\n",
    "    target_size=(64, 64),\n",
    ")\n",
    "\n",
    "model.evaluate_generator(testGen)"
   ]
  },
  {
   "cell_type": "markdown",
   "id": "1cbd9117",
   "metadata": {},
   "source": [
    "## 모델 추가 학습"
   ]
  },
  {
   "cell_type": "code",
   "execution_count": 17,
   "id": "808d7699",
   "metadata": {},
   "outputs": [
    {
     "name": "stderr",
     "output_type": "stream",
     "text": [
      "C:\\Users\\jesung\\AppData\\Local\\Temp/ipykernel_7892/2161297457.py:2: UserWarning: `Model.fit_generator` is deprecated and will be removed in a future version. Please use `Model.fit`, which supports generators.\n",
      "  history = model.fit_generator(\n"
     ]
    },
    {
     "name": "stdout",
     "output_type": "stream",
     "text": [
      "Epoch 1/32\n",
      "226/225 [==============================] - ETA: 0s - loss: 0.4758 - acc: 0.7734WARNING:tensorflow:Your input ran out of data; interrupting training. Make sure that your dataset or generator can generate at least `steps_per_epoch * epochs` batches (in this case, 225.15625 batches). You may need to use the repeat() function when building your dataset.\n",
      "225/225 [==============================] - 95s 422ms/step - loss: 0.4758 - acc: 0.7734 - val_loss: 0.8438 - val_acc: 0.5938\n",
      "Epoch 2/32\n",
      "225/225 [==============================] - 91s 403ms/step - loss: 0.3883 - acc: 0.8265\n",
      "Epoch 3/32\n",
      "225/225 [==============================] - 91s 403ms/step - loss: 0.3497 - acc: 0.8432\n",
      "Epoch 4/32\n",
      "225/225 [==============================] - 88s 390ms/step - loss: 0.3259 - acc: 0.8602\n",
      "Epoch 5/32\n",
      "225/225 [==============================] - 39s 175ms/step - loss: 0.3143 - acc: 0.8607\n",
      "Epoch 6/32\n",
      "225/225 [==============================] - 39s 175ms/step - loss: 0.2995 - acc: 0.8712\n",
      "Epoch 7/32\n",
      "225/225 [==============================] - 39s 175ms/step - loss: 0.3079 - acc: 0.8650\n",
      "Epoch 8/32\n",
      "225/225 [==============================] - 39s 175ms/step - loss: 0.2873 - acc: 0.8790\n",
      "Epoch 9/32\n",
      "225/225 [==============================] - 39s 175ms/step - loss: 0.2758 - acc: 0.8838\n",
      "Epoch 10/32\n",
      "225/225 [==============================] - 39s 175ms/step - loss: 0.2742 - acc: 0.8826\n",
      "Epoch 11/32\n",
      "225/225 [==============================] - 39s 175ms/step - loss: 0.2658 - acc: 0.8909\n",
      "Epoch 12/32\n",
      "225/225 [==============================] - 39s 175ms/step - loss: 0.2576 - acc: 0.8852\n",
      "Epoch 13/32\n",
      "225/225 [==============================] - 39s 175ms/step - loss: 0.2551 - acc: 0.8902\n",
      "Epoch 14/32\n",
      "225/225 [==============================] - 65s 291ms/step - loss: 0.2541 - acc: 0.8909\n",
      "Epoch 15/32\n",
      "225/225 [==============================] - 91s 402ms/step - loss: 0.2431 - acc: 0.8970\n",
      "Epoch 16/32\n",
      "225/225 [==============================] - 91s 402ms/step - loss: 0.2365 - acc: 0.8969\n",
      "Epoch 17/32\n",
      "225/225 [==============================] - 91s 402ms/step - loss: 0.2398 - acc: 0.8967\n",
      "Epoch 18/32\n",
      "225/225 [==============================] - 91s 402ms/step - loss: 0.2321 - acc: 0.8998\n",
      "Epoch 19/32\n",
      "225/225 [==============================] - 91s 402ms/step - loss: 0.2333 - acc: 0.8995\n",
      "Epoch 20/32\n",
      "225/225 [==============================] - 91s 402ms/step - loss: 0.2253 - acc: 0.9080\n",
      "Epoch 21/32\n",
      "225/225 [==============================] - 41s 180ms/step - loss: 0.2119 - acc: 0.9138\n",
      "Epoch 22/32\n",
      "225/225 [==============================] - 40s 175ms/step - loss: 0.2030 - acc: 0.9156\n",
      "Epoch 23/32\n",
      "225/225 [==============================] - 39s 175ms/step - loss: 0.2474 - acc: 0.8988\n",
      "Epoch 24/32\n",
      "225/225 [==============================] - 39s 175ms/step - loss: 0.2624 - acc: 0.8904\n",
      "Epoch 25/32\n",
      "225/225 [==============================] - 39s 174ms/step - loss: 0.2121 - acc: 0.9120\n",
      "Epoch 26/32\n",
      "225/225 [==============================] - 39s 175ms/step - loss: 0.1967 - acc: 0.9196\n",
      "Epoch 27/32\n",
      "225/225 [==============================] - 39s 175ms/step - loss: 0.1989 - acc: 0.9173\n",
      "Epoch 28/32\n",
      "225/225 [==============================] - 39s 174ms/step - loss: 0.1916 - acc: 0.9192\n",
      "Epoch 29/32\n",
      "225/225 [==============================] - 40s 177ms/step - loss: 0.2008 - acc: 0.9167\n",
      "Epoch 30/32\n",
      "225/225 [==============================] - 40s 177ms/step - loss: 0.1850 - acc: 0.9241\n",
      "Epoch 31/32\n",
      "225/225 [==============================] - 40s 179ms/step - loss: 0.1787 - acc: 0.9278\n",
      "Epoch 32/32\n",
      "225/225 [==============================] - 40s 176ms/step - loss: 0.2002 - acc: 0.9191\n"
     ]
    }
   ],
   "source": [
    "epochs = 32\n",
    "history = model.fit_generator(\n",
    "    trainGen, \n",
    "    epochs=epochs,\n",
    "    steps_per_epoch=trainGen.samples / epochs, \n",
    "    validation_data=validationGen,\n",
    "    validation_steps=trainGen.samples / epochs,\n",
    ")"
   ]
  },
  {
   "cell_type": "code",
   "execution_count": 25,
   "id": "5244ec1c",
   "metadata": {},
   "outputs": [
    {
     "data": {
      "image/png": "[encoded data removed]",
      "text/plain": [
       "<Figure size 432x288 with 1 Axes>"
      ]
     },
     "metadata": {
      "needs_background": "light"
     },
     "output_type": "display_data"
    },
    {
     "data": {
      "image/png": "[encoded data removed]",
      "text/plain": [
       "<Figure size 432x288 with 1 Axes>"
      ]
     },
     "metadata": {
      "needs_background": "light"
     },
     "output_type": "display_data"
    }
   ],
   "source": [
    "# 학습 정확성 값과 검증 정확성 값을 플롯팅 합니다. \n",
    "plt.plot(history.history['acc'])\n",
    "plt.plot(history.history['val_acc'])\n",
    "plt.title('Model accuracy')\n",
    "plt.ylabel('Accuracy')\n",
    "plt.xlabel('Epoch')\n",
    "plt.legend(['Train', 'Test'], loc='upper left')\n",
    "plt.show()\n",
    "\n",
    "# 학습 손실 값과 검증 손실 값을 플롯팅 합니다.\n",
    "plt.plot(history.history['loss'])\n",
    "plt.plot(history.history['val_loss'])\n",
    "plt.title('Model loss')\n",
    "plt.ylabel('Loss')\n",
    "plt.xlabel('Epoch')\n",
    "plt.legend(['Train', 'Test'], loc='upper left')\n",
    "plt.show()"
   ]
  },
  {
   "cell_type": "code",
   "execution_count": 26,
   "id": "13a5bdb5",
   "metadata": {},
   "outputs": [
    {
     "name": "stderr",
     "output_type": "stream",
     "text": [
      "C:\\Users\\jesung\\AppData\\Local\\Temp/ipykernel_7892/3061071014.py:1: UserWarning: `Model.evaluate_generator` is deprecated and will be removed in a future version. Please use `Model.evaluate`, which supports generators.\n",
      "  model.evaluate_generator(testGen)\n"
     ]
    },
    {
     "data": {
      "text/plain": [
       "[0.3362090587615967, 0.8596144318580627]"
      ]
     },
     "execution_count": 26,
     "metadata": {},
     "output_type": "execute_result"
    }
   ],
   "source": [
    "model.evaluate_generator(testGen)"
   ]
  }
 ],
 "metadata": {
  "kernelspec": {
   "display_name": "Python 3 (ipykernel)",
   "language": "python",
   "name": "python3"
  },
  "language_info": {
   "codemirror_mode": {
    "name": "ipython",
    "version": 3
   },
   "file_extension": ".py",
   "mimetype": "text/x-python",
   "name": "python",
   "nbconvert_exporter": "python",
   "pygments_lexer": "ipython3",
   "version": "3.9.7"
  }
 },
 "nbformat": 4,
 "nbformat_minor": 5
}
