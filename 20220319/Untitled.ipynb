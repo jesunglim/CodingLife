{
 "cells": [
  {
   "cell_type": "code",
   "execution_count": 1,
   "id": "32785945",
   "metadata": {},
   "outputs": [],
   "source": [
    "from arcface import ArcFace"
   ]
  },
  {
   "cell_type": "code",
   "execution_count": 2,
   "id": "8b10083a",
   "metadata": {},
   "outputs": [],
   "source": [
    "face_rec = ArcFace.ArcFace()"
   ]
  },
  {
   "cell_type": "code",
   "execution_count": 3,
   "id": "d8120e50",
   "metadata": {},
   "outputs": [],
   "source": [
    "emb1 = face_rec.calc_emb(\"test.jpg\")"
   ]
  },
  {
   "cell_type": "code",
   "execution_count": 4,
   "id": "70871e08",
   "metadata": {},
   "outputs": [],
   "source": [
    "emb2 = face_rec.calc_emb(\"test2.jpg\")"
   ]
  },
  {
   "cell_type": "code",
   "execution_count": 5,
   "id": "cd4e20c4",
   "metadata": {},
   "outputs": [],
   "source": [
    "emb3 = face_rec.calc_emb(\"test3.jpg\")"
   ]
  },
  {
   "cell_type": "code",
   "execution_count": 6,
   "id": "9ab305ec",
   "metadata": {},
   "outputs": [],
   "source": [
    "emb4 = face_rec.calc_emb(\"test4.jpg\")"
   ]
  },
  {
   "cell_type": "code",
   "execution_count": 7,
   "id": "ae565e03",
   "metadata": {},
   "outputs": [],
   "source": [
    "mago = face_rec.calc_emb(\"mago.jpg\")"
   ]
  },
  {
   "cell_type": "code",
   "execution_count": 8,
   "id": "ec10f33b",
   "metadata": {},
   "outputs": [],
   "source": [
    "rosie = face_rec.calc_emb(\"rosie.jpg\")"
   ]
  },
  {
   "cell_type": "code",
   "execution_count": 9,
   "id": "6d52dec3",
   "metadata": {},
   "outputs": [],
   "source": [
    "shin = face_rec.calc_emb(\"shin.jpg\")"
   ]
  },
  {
   "cell_type": "code",
   "execution_count": 10,
   "id": "f7ea470d",
   "metadata": {},
   "outputs": [],
   "source": [
    "scarlett = [emb1, emb2, emb3, emb4]"
   ]
  },
  {
   "cell_type": "code",
   "execution_count": 11,
   "id": "bae57877",
   "metadata": {},
   "outputs": [
    {
     "name": "stdout",
     "output_type": "stream",
     "text": [
      "1.6558535\n",
      "0.7959732\n",
      "1.0253794\n",
      "1.231394\n"
     ]
    }
   ],
   "source": [
    "for i in scarlett:\n",
    "    print(face_rec.get_distance_embeddings(i, mago))"
   ]
  },
  {
   "cell_type": "code",
   "execution_count": 12,
   "id": "97d9b0fe",
   "metadata": {},
   "outputs": [
    {
     "name": "stdout",
     "output_type": "stream",
     "text": [
      "0.8917055\n",
      "0.90446496\n",
      "0.0\n",
      "1.7484877\n"
     ]
    }
   ],
   "source": [
    "for i in scarlett:\n",
    "    print(face_rec.get_distance_embeddings(i, emb3))"
   ]
  },
  {
   "cell_type": "code",
   "execution_count": 13,
   "id": "d481adda",
   "metadata": {},
   "outputs": [
    {
     "name": "stdout",
     "output_type": "stream",
     "text": [
      "1.9605772\n",
      "0.9371775\n",
      "1.3004906\n",
      "0.8266505\n"
     ]
    }
   ],
   "source": [
    "for i in scarlett:\n",
    "    print(face_rec.get_distance_embeddings(i, rosie))"
   ]
  },
  {
   "cell_type": "code",
   "execution_count": 14,
   "id": "7eebbb26",
   "metadata": {},
   "outputs": [
    {
     "name": "stdout",
     "output_type": "stream",
     "text": [
      "1.9157226\n",
      "1.3947293\n",
      "1.9104482\n",
      "1.3255349\n"
     ]
    }
   ],
   "source": [
    "for i in scarlett:\n",
    "    print(face_rec.get_distance_embeddings(i, shin))"
   ]
  }
 ],
 "metadata": {
  "kernelspec": {
   "display_name": "Python 3 (ipykernel)",
   "language": "python",
   "name": "python3"
  },
  "language_info": {
   "codemirror_mode": {
    "name": "ipython",
    "version": 3
   },
   "file_extension": ".py",
   "mimetype": "text/x-python",
   "name": "python",
   "nbconvert_exporter": "python",
   "pygments_lexer": "ipython3",
   "version": "3.9.7"
  }
 },
 "nbformat": 4,
 "nbformat_minor": 5
}
