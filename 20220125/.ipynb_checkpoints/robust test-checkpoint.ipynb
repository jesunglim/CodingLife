{
 "cells": [
  {
   "cell_type": "code",
   "execution_count": 1,
   "id": "20fe03aa",
   "metadata": {},
   "outputs": [],
   "source": [
    "import pandas as pd\n",
    "from sklearn.preprocessing import RobustScaler"
   ]
  },
  {
   "cell_type": "code",
   "execution_count": 2,
   "id": "fd8ed2db",
   "metadata": {},
   "outputs": [],
   "source": [
    "df = pd.DataFrame([\n",
    "    [2, 1, 3],\n",
    "    [3, 2, 5],\n",
    "    [3, 4, 7],\n",
    "    [5, 5, 10],\n",
    "    [7, 5, 12],\n",
    "    [2, 5, 7],\n",
    "    [8, 9, 13],\n",
    "    [9, 10, 13],\n",
    "    [6, 12, 12],\n",
    "    [9, 2, 13],\n",
    "    [6, 10, 12],\n",
    "    [2, 4, 6]\n",
    "], columns=['hour', 'attendance', 'score'])"
   ]
  },
  {
   "cell_type": "code",
   "execution_count": 3,
   "id": "e7fd57a8",
   "metadata": {},
   "outputs": [
    {
     "data": {
      "text/html": [
       "<div>\n",
       "<style scoped>\n",
       "    .dataframe tbody tr th:only-of-type {\n",
       "        vertical-align: middle;\n",
       "    }\n",
       "\n",
       "    .dataframe tbody tr th {\n",
       "        vertical-align: top;\n",
       "    }\n",
       "\n",
       "    .dataframe thead th {\n",
       "        text-align: right;\n",
       "    }\n",
       "</style>\n",
       "<table border=\"1\" class=\"dataframe\">\n",
       "  <thead>\n",
       "    <tr style=\"text-align: right;\">\n",
       "      <th></th>\n",
       "      <th>hour</th>\n",
       "      <th>attendance</th>\n",
       "      <th>score</th>\n",
       "    </tr>\n",
       "  </thead>\n",
       "  <tbody>\n",
       "    <tr>\n",
       "      <th>0</th>\n",
       "      <td>2</td>\n",
       "      <td>1</td>\n",
       "      <td>3</td>\n",
       "    </tr>\n",
       "    <tr>\n",
       "      <th>1</th>\n",
       "      <td>3</td>\n",
       "      <td>2</td>\n",
       "      <td>5</td>\n",
       "    </tr>\n",
       "    <tr>\n",
       "      <th>2</th>\n",
       "      <td>3</td>\n",
       "      <td>4</td>\n",
       "      <td>7</td>\n",
       "    </tr>\n",
       "    <tr>\n",
       "      <th>3</th>\n",
       "      <td>5</td>\n",
       "      <td>5</td>\n",
       "      <td>10</td>\n",
       "    </tr>\n",
       "    <tr>\n",
       "      <th>4</th>\n",
       "      <td>7</td>\n",
       "      <td>5</td>\n",
       "      <td>12</td>\n",
       "    </tr>\n",
       "    <tr>\n",
       "      <th>5</th>\n",
       "      <td>2</td>\n",
       "      <td>5</td>\n",
       "      <td>7</td>\n",
       "    </tr>\n",
       "    <tr>\n",
       "      <th>6</th>\n",
       "      <td>8</td>\n",
       "      <td>9</td>\n",
       "      <td>13</td>\n",
       "    </tr>\n",
       "    <tr>\n",
       "      <th>7</th>\n",
       "      <td>9</td>\n",
       "      <td>10</td>\n",
       "      <td>13</td>\n",
       "    </tr>\n",
       "    <tr>\n",
       "      <th>8</th>\n",
       "      <td>6</td>\n",
       "      <td>12</td>\n",
       "      <td>12</td>\n",
       "    </tr>\n",
       "    <tr>\n",
       "      <th>9</th>\n",
       "      <td>9</td>\n",
       "      <td>2</td>\n",
       "      <td>13</td>\n",
       "    </tr>\n",
       "    <tr>\n",
       "      <th>10</th>\n",
       "      <td>6</td>\n",
       "      <td>10</td>\n",
       "      <td>12</td>\n",
       "    </tr>\n",
       "    <tr>\n",
       "      <th>11</th>\n",
       "      <td>2</td>\n",
       "      <td>4</td>\n",
       "      <td>6</td>\n",
       "    </tr>\n",
       "  </tbody>\n",
       "</table>\n",
       "</div>"
      ],
      "text/plain": [
       "    hour  attendance  score\n",
       "0      2           1      3\n",
       "1      3           2      5\n",
       "2      3           4      7\n",
       "3      5           5     10\n",
       "4      7           5     12\n",
       "5      2           5      7\n",
       "6      8           9     13\n",
       "7      9          10     13\n",
       "8      6          12     12\n",
       "9      9           2     13\n",
       "10     6          10     12\n",
       "11     2           4      6"
      ]
     },
     "execution_count": 3,
     "metadata": {},
     "output_type": "execute_result"
    }
   ],
   "source": [
    "df"
   ]
  },
  {
   "cell_type": "code",
   "execution_count": 4,
   "id": "bb4f47c8",
   "metadata": {},
   "outputs": [
    {
     "data": {
      "text/plain": [
       "RobustScaler()"
      ]
     },
     "execution_count": 4,
     "metadata": {},
     "output_type": "execute_result"
    }
   ],
   "source": [
    "transformer = RobustScaler()\n",
    "transformer.fit(df)"
   ]
  },
  {
   "cell_type": "code",
   "execution_count": 5,
   "id": "76192edd",
   "metadata": {},
   "outputs": [],
   "source": [
    "df = transformer.transform(df) "
   ]
  },
  {
   "cell_type": "code",
   "execution_count": 6,
   "id": "af56c3b3",
   "metadata": {},
   "outputs": [
    {
     "data": {
      "text/plain": [
       "array([[-0.77777778, -0.69565217, -1.45454545],\n",
       "       [-0.55555556, -0.52173913, -1.09090909],\n",
       "       [-0.55555556, -0.17391304, -0.72727273],\n",
       "       [-0.11111111,  0.        , -0.18181818],\n",
       "       [ 0.33333333,  0.        ,  0.18181818],\n",
       "       [-0.77777778,  0.        , -0.72727273],\n",
       "       [ 0.55555556,  0.69565217,  0.36363636],\n",
       "       [ 0.77777778,  0.86956522,  0.36363636],\n",
       "       [ 0.11111111,  1.2173913 ,  0.18181818],\n",
       "       [ 0.77777778, -0.52173913,  0.36363636],\n",
       "       [ 0.11111111,  0.86956522,  0.18181818],\n",
       "       [-0.77777778, -0.17391304, -0.90909091]])"
      ]
     },
     "execution_count": 6,
     "metadata": {},
     "output_type": "execute_result"
    }
   ],
   "source": [
    "df"
   ]
  },
  {
   "cell_type": "code",
   "execution_count": null,
   "id": "87ab7ad2",
   "metadata": {},
   "outputs": [],
   "source": []
  },
  {
   "cell_type": "code",
   "execution_count": 7,
   "id": "968bbee1",
   "metadata": {},
   "outputs": [],
   "source": [
    "df2 = pd.DataFrame([\n",
    "    [2, 0, 0],\n",
    "    [3, 0, 0],\n",
    "    [3, 0, 0],\n",
    "    [5, 0, 0],\n",
    "    [7, 0, 0],\n",
    "    [2, 0, 0],\n",
    "    [8, 0, 0],\n",
    "    [9, 0, 0],\n",
    "    [6, 0, 0],\n",
    "    [9, 0, 0],\n",
    "    [6, 0, 0],\n",
    "    [2, 0, 0]\n",
    "], columns=['hour', 'attendance', 'score'])"
   ]
  },
  {
   "cell_type": "code",
   "execution_count": 8,
   "id": "9ae578b2",
   "metadata": {},
   "outputs": [
    {
     "data": {
      "text/html": [
       "<div>\n",
       "<style scoped>\n",
       "    .dataframe tbody tr th:only-of-type {\n",
       "        vertical-align: middle;\n",
       "    }\n",
       "\n",
       "    .dataframe tbody tr th {\n",
       "        vertical-align: top;\n",
       "    }\n",
       "\n",
       "    .dataframe thead th {\n",
       "        text-align: right;\n",
       "    }\n",
       "</style>\n",
       "<table border=\"1\" class=\"dataframe\">\n",
       "  <thead>\n",
       "    <tr style=\"text-align: right;\">\n",
       "      <th></th>\n",
       "      <th>hour</th>\n",
       "      <th>attendance</th>\n",
       "      <th>score</th>\n",
       "    </tr>\n",
       "  </thead>\n",
       "  <tbody>\n",
       "    <tr>\n",
       "      <th>0</th>\n",
       "      <td>2</td>\n",
       "      <td>0</td>\n",
       "      <td>0</td>\n",
       "    </tr>\n",
       "    <tr>\n",
       "      <th>1</th>\n",
       "      <td>3</td>\n",
       "      <td>0</td>\n",
       "      <td>0</td>\n",
       "    </tr>\n",
       "    <tr>\n",
       "      <th>2</th>\n",
       "      <td>3</td>\n",
       "      <td>0</td>\n",
       "      <td>0</td>\n",
       "    </tr>\n",
       "    <tr>\n",
       "      <th>3</th>\n",
       "      <td>5</td>\n",
       "      <td>0</td>\n",
       "      <td>0</td>\n",
       "    </tr>\n",
       "    <tr>\n",
       "      <th>4</th>\n",
       "      <td>7</td>\n",
       "      <td>0</td>\n",
       "      <td>0</td>\n",
       "    </tr>\n",
       "    <tr>\n",
       "      <th>5</th>\n",
       "      <td>2</td>\n",
       "      <td>0</td>\n",
       "      <td>0</td>\n",
       "    </tr>\n",
       "    <tr>\n",
       "      <th>6</th>\n",
       "      <td>8</td>\n",
       "      <td>0</td>\n",
       "      <td>0</td>\n",
       "    </tr>\n",
       "    <tr>\n",
       "      <th>7</th>\n",
       "      <td>9</td>\n",
       "      <td>0</td>\n",
       "      <td>0</td>\n",
       "    </tr>\n",
       "    <tr>\n",
       "      <th>8</th>\n",
       "      <td>6</td>\n",
       "      <td>0</td>\n",
       "      <td>0</td>\n",
       "    </tr>\n",
       "    <tr>\n",
       "      <th>9</th>\n",
       "      <td>9</td>\n",
       "      <td>0</td>\n",
       "      <td>0</td>\n",
       "    </tr>\n",
       "    <tr>\n",
       "      <th>10</th>\n",
       "      <td>6</td>\n",
       "      <td>0</td>\n",
       "      <td>0</td>\n",
       "    </tr>\n",
       "    <tr>\n",
       "      <th>11</th>\n",
       "      <td>2</td>\n",
       "      <td>0</td>\n",
       "      <td>0</td>\n",
       "    </tr>\n",
       "  </tbody>\n",
       "</table>\n",
       "</div>"
      ],
      "text/plain": [
       "    hour  attendance  score\n",
       "0      2           0      0\n",
       "1      3           0      0\n",
       "2      3           0      0\n",
       "3      5           0      0\n",
       "4      7           0      0\n",
       "5      2           0      0\n",
       "6      8           0      0\n",
       "7      9           0      0\n",
       "8      6           0      0\n",
       "9      9           0      0\n",
       "10     6           0      0\n",
       "11     2           0      0"
      ]
     },
     "execution_count": 8,
     "metadata": {},
     "output_type": "execute_result"
    }
   ],
   "source": [
    "df2"
   ]
  },
  {
   "cell_type": "code",
   "execution_count": 9,
   "id": "05c56dde",
   "metadata": {},
   "outputs": [
    {
     "data": {
      "text/plain": [
       "RobustScaler()"
      ]
     },
     "execution_count": 9,
     "metadata": {},
     "output_type": "execute_result"
    }
   ],
   "source": [
    "transformer = RobustScaler()\n",
    "transformer.fit(df2)"
   ]
  },
  {
   "cell_type": "code",
   "execution_count": 10,
   "id": "a1dab5bd",
   "metadata": {},
   "outputs": [],
   "source": [
    "df2 = transformer.transform(df2) "
   ]
  },
  {
   "cell_type": "code",
   "execution_count": 11,
   "id": "99ceb99d",
   "metadata": {},
   "outputs": [
    {
     "data": {
      "text/plain": [
       "array([[-0.77777778,  0.        ,  0.        ],\n",
       "       [-0.55555556,  0.        ,  0.        ],\n",
       "       [-0.55555556,  0.        ,  0.        ],\n",
       "       [-0.11111111,  0.        ,  0.        ],\n",
       "       [ 0.33333333,  0.        ,  0.        ],\n",
       "       [-0.77777778,  0.        ,  0.        ],\n",
       "       [ 0.55555556,  0.        ,  0.        ],\n",
       "       [ 0.77777778,  0.        ,  0.        ],\n",
       "       [ 0.11111111,  0.        ,  0.        ],\n",
       "       [ 0.77777778,  0.        ,  0.        ],\n",
       "       [ 0.11111111,  0.        ,  0.        ],\n",
       "       [-0.77777778,  0.        ,  0.        ]])"
      ]
     },
     "execution_count": 11,
     "metadata": {},
     "output_type": "execute_result"
    }
   ],
   "source": [
    "df2"
   ]
  },
  {
   "cell_type": "code",
   "execution_count": 12,
   "id": "c5f2d21c",
   "metadata": {},
   "outputs": [
    {
     "data": {
      "text/plain": [
       "array([[-0.77777778, -0.69565217, -1.45454545],\n",
       "       [-0.55555556, -0.52173913, -1.09090909],\n",
       "       [-0.55555556, -0.17391304, -0.72727273],\n",
       "       [-0.11111111,  0.        , -0.18181818],\n",
       "       [ 0.33333333,  0.        ,  0.18181818],\n",
       "       [-0.77777778,  0.        , -0.72727273],\n",
       "       [ 0.55555556,  0.69565217,  0.36363636],\n",
       "       [ 0.77777778,  0.86956522,  0.36363636],\n",
       "       [ 0.11111111,  1.2173913 ,  0.18181818],\n",
       "       [ 0.77777778, -0.52173913,  0.36363636],\n",
       "       [ 0.11111111,  0.86956522,  0.18181818],\n",
       "       [-0.77777778, -0.17391304, -0.90909091]])"
      ]
     },
     "execution_count": 12,
     "metadata": {},
     "output_type": "execute_result"
    }
   ],
   "source": [
    "df"
   ]
  },
  {
   "cell_type": "code",
   "execution_count": 13,
   "id": "a7f8f158",
   "metadata": {},
   "outputs": [],
   "source": [
    "# sklearn.preprocessing 모듈은 각 feature마다 정규화를 해준다. 모든 feature들을 통채로 연산하지 않아서 정확하다"
   ]
  }
 ],
 "metadata": {
  "kernelspec": {
   "display_name": "Python 3 (ipykernel)",
   "language": "python",
   "name": "python3"
  },
  "language_info": {
   "codemirror_mode": {
    "name": "ipython",
    "version": 3
   },
   "file_extension": ".py",
   "mimetype": "text/x-python",
   "name": "python",
   "nbconvert_exporter": "python",
   "pygments_lexer": "ipython3",
   "version": "3.9.9"
  }
 },
 "nbformat": 4,
 "nbformat_minor": 5
}
