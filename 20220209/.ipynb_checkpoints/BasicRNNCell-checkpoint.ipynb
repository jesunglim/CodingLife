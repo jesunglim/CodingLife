{
 "cells": [
  {
   "cell_type": "code",
   "execution_count": 1,
   "id": "1f067749",
   "metadata": {},
   "outputs": [
    {
     "name": "stdout",
     "output_type": "stream",
     "text": [
      "WARNING:tensorflow:From C:\\Users\\jesung\\AppData\\Local\\Programs\\Python\\Python39\\lib\\site-packages\\tensorflow\\python\\compat\\v2_compat.py:111: disable_resource_variables (from tensorflow.python.ops.variable_scope) is deprecated and will be removed in a future version.\n",
      "Instructions for updating:\n",
      "non-resource variables are not supported in the long term\n"
     ]
    }
   ],
   "source": [
    "import numpy as np\n",
    "import tensorflow.compat.v1 as tf\n",
    "tf.disable_v2_behavior()"
   ]
  },
  {
   "cell_type": "code",
   "execution_count": 2,
   "id": "3d97c925",
   "metadata": {},
   "outputs": [],
   "source": [
    "n_inputs = 3\n",
    "n_neurons = 5"
   ]
  },
  {
   "cell_type": "code",
   "execution_count": 3,
   "id": "a5ef89a1",
   "metadata": {},
   "outputs": [],
   "source": [
    "X0 = tf.placeholder(tf.float32, [None, n_inputs])\n",
    "X1 = tf.placeholder(tf.float32, [None, n_inputs])"
   ]
  },
  {
   "cell_type": "code",
   "execution_count": 4,
   "id": "08774d91",
   "metadata": {},
   "outputs": [
    {
     "name": "stderr",
     "output_type": "stream",
     "text": [
      "C:\\Users\\jesung\\AppData\\Local\\Temp\\ipykernel_3268\\3397846145.py:3: UserWarning: `tf.nn.rnn_cell.BasicRNNCell` is deprecated and will be removed in a future version. This class is equivalent as `tf.keras.layers.SimpleRNNCell`, and will be replaced by that in Tensorflow 2.0.\n",
      "  basic_cell = tf.nn.rnn_cell.BasicRNNCell(num_units=n_neurons)\n"
     ]
    }
   ],
   "source": [
    "# BasicRNNCell\n",
    "\n",
    "basic_cell = tf.nn.rnn_cell.BasicRNNCell(num_units=n_neurons)"
   ]
  },
  {
   "cell_type": "code",
   "execution_count": 5,
   "id": "c95db423",
   "metadata": {},
   "outputs": [
    {
     "name": "stdout",
     "output_type": "stream",
     "text": [
      "WARNING:tensorflow:From C:\\Users\\jesung\\AppData\\Local\\Temp\\ipykernel_3268\\2335459175.py:3: static_rnn (from tensorflow.python.ops.rnn) is deprecated and will be removed in a future version.\n",
      "Instructions for updating:\n",
      "Please use `keras.layers.RNN(cell, unroll=True)`, which is equivalent to this API\n",
      "WARNING:tensorflow:From C:\\Users\\jesung\\AppData\\Local\\Programs\\Python\\Python39\\lib\\site-packages\\keras\\layers\\legacy_rnn\\rnn_cell_impl.py:463: calling Zeros.__init__ (from tensorflow.python.ops.init_ops) with dtype is deprecated and will be removed in a future version.\n",
      "Instructions for updating:\n",
      "Call initializer instance with the dtype argument instead of passing it to the constructor\n"
     ]
    },
    {
     "name": "stderr",
     "output_type": "stream",
     "text": [
      "C:\\Users\\jesung\\AppData\\Local\\Programs\\Python\\Python39\\lib\\site-packages\\keras\\layers\\legacy_rnn\\rnn_cell_impl.py:457: UserWarning: `layer.add_variable` is deprecated and will be removed in a future version. Please use `layer.add_weight` method instead.\n",
      "  self._kernel = self.add_variable(\n",
      "C:\\Users\\jesung\\AppData\\Local\\Programs\\Python\\Python39\\lib\\site-packages\\keras\\layers\\legacy_rnn\\rnn_cell_impl.py:460: UserWarning: `layer.add_variable` is deprecated and will be removed in a future version. Please use `layer.add_weight` method instead.\n",
      "  self._bias = self.add_variable(\n"
     ]
    }
   ],
   "source": [
    "# static_rnn()\n",
    "\n",
    "output_seqs, states = tf.nn.static_rnn(cell=basic_cell, inputs=[X0, X1],\n",
    "                                      dtype=tf.float32)"
   ]
  },
  {
   "cell_type": "code",
   "execution_count": 6,
   "id": "94af87f4",
   "metadata": {},
   "outputs": [],
   "source": [
    "Y0, Y1 = output_seqs"
   ]
  },
  {
   "cell_type": "code",
   "execution_count": 7,
   "id": "89975cad",
   "metadata": {},
   "outputs": [],
   "source": [
    "# input data (mini-batch) \n",
    "# t = 0 \n",
    "X0_batch = np.array([[0, 1, 2], # sample 0 \n",
    "                     [3, 4, 5], # sample 1 \n",
    "                     [6, 7, 8], # sample 2 \n",
    "                     [9, 0, 1]]) # sample 3 \n",
    "# t = 1 \n",
    "X1_batch = np.array([[9, 8, 7], \n",
    "                     [3, 4, 5], \n",
    "                     [6, 5, 4], \n",
    "                     [3, 2, 1]])"
   ]
  },
  {
   "cell_type": "code",
   "execution_count": 8,
   "id": "8f0c48af",
   "metadata": {},
   "outputs": [],
   "source": [
    "with tf.Session() as sess:\n",
    "    tf.global_variables_initializer().run()\n",
    "    Y0_val, Y1_val = sess.run([Y0, Y1], feed_dict={X0: X0_batch, X1: X1_batch})"
   ]
  },
  {
   "cell_type": "code",
   "execution_count": 9,
   "id": "484e6f75",
   "metadata": {},
   "outputs": [
    {
     "name": "stdout",
     "output_type": "stream",
     "text": [
      "Y0_val:(4, 5)\n",
      "[[-0.90113896  0.5676906  -0.25046906  0.49142382  0.8460224 ]\n",
      " [-0.9999861  -0.11063095 -0.84186053  0.99373406  0.9848052 ]\n",
      " [-1.         -0.6994792  -0.9757018   0.99994206  0.99859565]\n",
      " [-0.9999912  -0.90218574  0.781436    0.9838694  -0.99670416]]\n"
     ]
    }
   ],
   "source": [
    "print('Y0_val:{}\\n{}'.format(Y0_val.shape, Y0_val))"
   ]
  },
  {
   "cell_type": "code",
   "execution_count": 10,
   "id": "f60e4c8c",
   "metadata": {},
   "outputs": [
    {
     "name": "stdout",
     "output_type": "stream",
     "text": [
      "Y1_val:(4, 5)\n",
      "[[-1.         -0.98608905 -0.99821323  0.99999803  0.83912313]\n",
      " [-0.9995794   0.39950082 -0.985758    0.99757594  0.87772274]\n",
      " [-0.99997294 -0.8697762  -0.9949085   0.9998131   0.16682555]\n",
      " [-0.9933918  -0.27188978  0.03510498  0.98925513  0.8420241 ]]\n"
     ]
    }
   ],
   "source": [
    "print('Y1_val:{}\\n{}'.format(Y1_val.shape, Y1_val))"
   ]
  }
 ],
 "metadata": {
  "kernelspec": {
   "display_name": "Python 3 (ipykernel)",
   "language": "python",
   "name": "python3"
  },
  "language_info": {
   "codemirror_mode": {
    "name": "ipython",
    "version": 3
   },
   "file_extension": ".py",
   "mimetype": "text/x-python",
   "name": "python",
   "nbconvert_exporter": "python",
   "pygments_lexer": "ipython3",
   "version": "3.9.9"
  }
 },
 "nbformat": 4,
 "nbformat_minor": 5
}
