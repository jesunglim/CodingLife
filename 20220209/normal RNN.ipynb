{
 "cells": [
  {
   "cell_type": "code",
   "execution_count": 1,
   "id": "9ff170dc",
   "metadata": {},
   "outputs": [
    {
     "name": "stdout",
     "output_type": "stream",
     "text": [
      "WARNING:tensorflow:From C:\\Users\\jesung\\AppData\\Local\\Programs\\Python\\Python39\\lib\\site-packages\\tensorflow\\python\\compat\\v2_compat.py:111: disable_resource_variables (from tensorflow.python.ops.variable_scope) is deprecated and will be removed in a future version.\n",
      "Instructions for updating:\n",
      "non-resource variables are not supported in the long term\n"
     ]
    }
   ],
   "source": [
    "import numpy as np\n",
    "import tensorflow.compat.v1 as tf\n",
    "tf.disable_v2_behavior()"
   ]
  },
  {
   "cell_type": "code",
   "execution_count": 2,
   "id": "f1c55026",
   "metadata": {},
   "outputs": [],
   "source": [
    "n_inputs = 3\n",
    "n_neurons = 5"
   ]
  },
  {
   "cell_type": "code",
   "execution_count": 3,
   "id": "5a45889b",
   "metadata": {},
   "outputs": [],
   "source": [
    "X0 = tf.placeholder(tf.float32, [None, n_inputs])\n",
    "X1 = tf.placeholder(tf.float32, [None, n_inputs])"
   ]
  },
  {
   "cell_type": "code",
   "execution_count": 4,
   "id": "ee40a9b4",
   "metadata": {},
   "outputs": [],
   "source": [
    "Wx = tf.Variable(tf.random_normal(shape=[n_inputs, n_neurons], dtype=tf.float32))\n",
    "Wy = tf.Variable(tf.random_normal(shape=[n_neurons, n_neurons], dtype=tf.float32))\n",
    "b = tf.Variable(tf.zeros([1, n_neurons], dtype=tf.float32))"
   ]
  },
  {
   "cell_type": "code",
   "execution_count": 5,
   "id": "a9167ecd",
   "metadata": {},
   "outputs": [],
   "source": [
    "Y0 = tf.tanh(tf.matmul(X0, Wx) + b)\n",
    "Y1 = tf.tanh(tf.matmul(Y0, Wy) + tf.matmul(X1, Wx) + b)"
   ]
  },
  {
   "cell_type": "code",
   "execution_count": 6,
   "id": "6ca3458a",
   "metadata": {},
   "outputs": [],
   "source": [
    "# input data (mini-batch)\n",
    "# t = 0\n",
    "\n",
    "X0_batch = np.array([[0, 1, 2], # sample 0 \n",
    "                     [3, 4, 5], # sample 1 \n",
    "                     [6, 7, 8], # sample 2 \n",
    "                     [9, 0, 1]]) # sample 3 \n",
    "# t = 1 \n",
    "X1_batch = np.array([[9, 8, 7], \n",
    "                     [3, 4, 5], \n",
    "                     [6, 5, 4], \n",
    "                     [3, 2, 1]])"
   ]
  },
  {
   "cell_type": "code",
   "execution_count": 7,
   "id": "b51fa965",
   "metadata": {},
   "outputs": [],
   "source": [
    "with tf.Session() as sess:\n",
    "    tf.global_variables_initializer().run()\n",
    "    Y0_val, Y1_val = sess.run([Y0, Y1], feed_dict= {X0: X0_batch, X1: X1_batch})"
   ]
  },
  {
   "cell_type": "code",
   "execution_count": 8,
   "id": "4d7569dc",
   "metadata": {},
   "outputs": [
    {
     "name": "stdout",
     "output_type": "stream",
     "text": [
      "Y0_val:(4, 5)\n",
      "[[-0.55799633 -0.99968463  0.68298274  0.99870634 -0.36427596]\n",
      " [-0.97503287 -0.999488    0.31821194  1.         -0.98223263]\n",
      " [-0.9988742  -0.99916875 -0.1735947   1.         -0.9996552 ]\n",
      " [ 0.8723992   1.         -0.99998736  0.9889294   0.99541616]]\n"
     ]
    }
   ],
   "source": [
    "print('Y0_val:{}\\n{}'.format(Y0_val.shape, Y0_val))"
   ]
  },
  {
   "cell_type": "code",
   "execution_count": 10,
   "id": "44675816",
   "metadata": {},
   "outputs": [
    {
     "name": "stdout",
     "output_type": "stream",
     "text": [
      "Y1_val:(4, 5)\n",
      "[[-0.9984713   0.9999982  -0.9920964   1.         -0.999999  ]\n",
      " [ 0.06534407 -0.9755484   0.48994452  1.         -0.9999934 ]\n",
      " [ 0.7172975   0.9999898  -0.92639166  1.         -1.        ]\n",
      " [ 0.24199198 -0.8737504  -0.99972963  0.9740634   0.8074469 ]]\n"
     ]
    }
   ],
   "source": [
    "print('Y1_val:{}\\n{}'.format(Y1_val.shape, Y1_val))"
   ]
  }
 ],
 "metadata": {
  "kernelspec": {
   "display_name": "Python 3 (ipykernel)",
   "language": "python",
   "name": "python3"
  },
  "language_info": {
   "codemirror_mode": {
    "name": "ipython",
    "version": 3
   },
   "file_extension": ".py",
   "mimetype": "text/x-python",
   "name": "python",
   "nbconvert_exporter": "python",
   "pygments_lexer": "ipython3",
   "version": "3.9.9"
  }
 },
 "nbformat": 4,
 "nbformat_minor": 5
}
