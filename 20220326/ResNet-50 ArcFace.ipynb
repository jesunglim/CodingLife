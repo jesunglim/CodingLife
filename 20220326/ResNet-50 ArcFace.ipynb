{
 "cells": [
  {
   "cell_type": "code",
   "execution_count": 1,
   "id": "3d940eb8",
   "metadata": {},
   "outputs": [],
   "source": [
    "import pandas as pd \n",
    "import numpy as np\n",
    "from tensorflow.keras.preprocessing.image import * \n",
    "from tensorflow.keras.utils import to_categorical\n",
    "from sklearn.model_selection import train_test_split\n",
    "import matplotlib.pyplot as plt \n",
    "import random\n",
    "import os \n",
    "import shutil"
   ]
  },
  {
   "cell_type": "markdown",
   "id": "efac77ba",
   "metadata": {},
   "source": [
    "# 훈련 데이터 복사"
   ]
  },
  {
   "cell_type": "code",
   "execution_count": 2,
   "id": "9238e1ed",
   "metadata": {},
   "outputs": [],
   "source": [
    "src_path = './datasets/train/' # 기존 폴더 경로 \n",
    "new_path = \"C:\\\\Users\\\\jesung\\\\Downloads\\\\test\\\\train\" # 옮길 폴더 경로 \n",
    "\n",
    "\n",
    "folders = os.listdir(src_path)\n",
    "for folder in folders:\n",
    "    folder_path = src_path + \"/\" + folder\n",
    "    files = os.listdir(folder_path)\n",
    "    \n",
    "    for file in files:\n",
    "        shutil.copy(folder_path+\"/\"+file, new_path)"
   ]
  },
  {
   "cell_type": "markdown",
   "id": "b6efb48e",
   "metadata": {},
   "source": [
    "# 테스트 데이터 복사"
   ]
  },
  {
   "cell_type": "code",
   "execution_count": 3,
   "id": "f61b299d",
   "metadata": {},
   "outputs": [],
   "source": [
    "test_src_path = './datasets/test/' # 기존 폴더 경로 \n",
    "test_new_path = \"C:\\\\Users\\\\jesung\\\\Downloads\\\\test\\\\test\" # 옮길 폴더 경로 \n",
    "\n",
    "\n",
    "folders = os.listdir(test_src_path)\n",
    "for folder in folders:\n",
    "    folder_path = test_src_path + \"/\" + folder\n",
    "    files = os.listdir(folder_path)\n",
    "    \n",
    "    for file in files:\n",
    "        shutil.copy(folder_path+\"/\"+file, test_new_path)"
   ]
  },
  {
   "cell_type": "code",
   "execution_count": 4,
   "id": "4ec8407f",
   "metadata": {},
   "outputs": [],
   "source": [
    "src_path = './datasets/train/' # 기존 폴더 경로 \n",
    "new_path = \"C:\\\\Users\\\\jesung\\\\Downloads\\\\test\\\\train\" # 옮길 폴더 경로 \n",
    "\n",
    "\n",
    "folders = os.listdir(src_path)\n",
    "for folder in folders:\n",
    "    folder_path = src_path + \"/\" + folder\n",
    "    files = os.listdir(folder_path)\n",
    "    \n",
    "    for file in files:\n",
    "        shutil.copy(folder_path+\"/\"+file, new_path)"
   ]
  },
  {
   "cell_type": "code",
   "execution_count": 5,
   "id": "b91669e4",
   "metadata": {},
   "outputs": [],
   "source": [
    "os.environ['TF_ENABLE_WINOGRAD_NONFUSED'] = '1'"
   ]
  },
  {
   "cell_type": "code",
   "execution_count": 6,
   "id": "c6b6a15d",
   "metadata": {},
   "outputs": [],
   "source": [
    "train_path = './datasets/train/'"
   ]
  },
  {
   "cell_type": "code",
   "execution_count": 7,
   "id": "b76980a1",
   "metadata": {},
   "outputs": [],
   "source": [
    "foldernames = os.listdir(train_path)"
   ]
  },
  {
   "cell_type": "code",
   "execution_count": 8,
   "id": "519cdca4",
   "metadata": {},
   "outputs": [
    {
     "data": {
      "text/html": [
       "<div>\n",
       "<style scoped>\n",
       "    .dataframe tbody tr th:only-of-type {\n",
       "        vertical-align: middle;\n",
       "    }\n",
       "\n",
       "    .dataframe tbody tr th {\n",
       "        vertical-align: top;\n",
       "    }\n",
       "\n",
       "    .dataframe thead th {\n",
       "        text-align: right;\n",
       "    }\n",
       "</style>\n",
       "<table border=\"1\" class=\"dataframe\">\n",
       "  <thead>\n",
       "    <tr style=\"text-align: right;\">\n",
       "      <th></th>\n",
       "      <th>filename</th>\n",
       "      <th>category</th>\n",
       "    </tr>\n",
       "  </thead>\n",
       "  <tbody>\n",
       "    <tr>\n",
       "      <th>0</th>\n",
       "      <td>1.jpg</td>\n",
       "      <td>0</td>\n",
       "    </tr>\n",
       "    <tr>\n",
       "      <th>1</th>\n",
       "      <td>10.jpg</td>\n",
       "      <td>0</td>\n",
       "    </tr>\n",
       "    <tr>\n",
       "      <th>2</th>\n",
       "      <td>100.jpg</td>\n",
       "      <td>0</td>\n",
       "    </tr>\n",
       "    <tr>\n",
       "      <th>3</th>\n",
       "      <td>101.jpg</td>\n",
       "      <td>0</td>\n",
       "    </tr>\n",
       "    <tr>\n",
       "      <th>4</th>\n",
       "      <td>102.jpg</td>\n",
       "      <td>0</td>\n",
       "    </tr>\n",
       "    <tr>\n",
       "      <th>...</th>\n",
       "      <td>...</td>\n",
       "      <td>...</td>\n",
       "    </tr>\n",
       "    <tr>\n",
       "      <th>765</th>\n",
       "      <td>666.jpg</td>\n",
       "      <td>9</td>\n",
       "    </tr>\n",
       "    <tr>\n",
       "      <th>766</th>\n",
       "      <td>667.jpg</td>\n",
       "      <td>9</td>\n",
       "    </tr>\n",
       "    <tr>\n",
       "      <th>767</th>\n",
       "      <td>668.jpg</td>\n",
       "      <td>9</td>\n",
       "    </tr>\n",
       "    <tr>\n",
       "      <th>768</th>\n",
       "      <td>669.jpg</td>\n",
       "      <td>9</td>\n",
       "    </tr>\n",
       "    <tr>\n",
       "      <th>769</th>\n",
       "      <td>670.jpg</td>\n",
       "      <td>9</td>\n",
       "    </tr>\n",
       "  </tbody>\n",
       "</table>\n",
       "<p>770 rows × 2 columns</p>\n",
       "</div>"
      ],
      "text/plain": [
       "    filename  category\n",
       "0      1.jpg         0\n",
       "1     10.jpg         0\n",
       "2    100.jpg         0\n",
       "3    101.jpg         0\n",
       "4    102.jpg         0\n",
       "..       ...       ...\n",
       "765  666.jpg         9\n",
       "766  667.jpg         9\n",
       "767  668.jpg         9\n",
       "768  669.jpg         9\n",
       "769  670.jpg         9\n",
       "\n",
       "[770 rows x 2 columns]"
      ]
     },
     "execution_count": 8,
     "metadata": {},
     "output_type": "execute_result"
    }
   ],
   "source": [
    "# 데이터 형상 관련 상수 정의 \n",
    "IMAGE_WIDTH=112\n",
    "IMAGE_HEIGHT=112\n",
    "IMAGE_SIZE=(IMAGE_WIDTH, IMAGE_HEIGHT)\n",
    "IMAGE_CHANNEL=3\n",
    "\n",
    "# 학습 데이터 준비 \n",
    "foldernames = os.listdir(train_path)\n",
    "all_filenames=[]  # 전체 폴더 파일\n",
    "categories=[]    \n",
    "\n",
    "for foldername in foldernames:\n",
    "    filenames = os.listdir(train_path+foldernames[int(foldername)])\n",
    "    all_filenames.extend(filenames) # 폴더별 전체 파일 더하기\n",
    "    \n",
    "    for filename in filenames:\n",
    "        categories.append(int(foldername)) # 몇번째 폴덩인지로 클래스 이름 정하기\n",
    "\n",
    "        \n",
    "df=pd.DataFrame(\n",
    "    {\"filename\":all_filenames,\n",
    "    \"category\":categories}\n",
    ")        \n",
    "df"
   ]
  },
  {
   "cell_type": "code",
   "execution_count": 9,
   "id": "148afb6e",
   "metadata": {},
   "outputs": [
    {
     "data": {
      "text/plain": [
       "<AxesSubplot:>"
      ]
     },
     "execution_count": 9,
     "metadata": {},
     "output_type": "execute_result"
    },
    {
     "data": {
      "image/png": "[encoded data removed]",
      "text/plain": [
       "<Figure size 432x288 with 1 Axes>"
      ]
     },
     "metadata": {
      "needs_background": "light"
     },
     "output_type": "display_data"
    }
   ],
   "source": [
    "df['category'].value_counts().plot.bar()"
   ]
  },
  {
   "cell_type": "code",
   "execution_count": 10,
   "id": "f3443853",
   "metadata": {},
   "outputs": [
    {
     "data": {
      "text/plain": [
       "dtype('int64')"
      ]
     },
     "execution_count": 10,
     "metadata": {},
     "output_type": "execute_result"
    }
   ],
   "source": [
    "df['category'].dtypes"
   ]
  },
  {
   "cell_type": "code",
   "execution_count": 11,
   "id": "e739a593",
   "metadata": {},
   "outputs": [],
   "source": [
    "df = df.astype({'category':'string'})"
   ]
  },
  {
   "cell_type": "code",
   "execution_count": 12,
   "id": "c2f20bb1",
   "metadata": {},
   "outputs": [
    {
     "data": {
      "text/plain": [
       "string[python]"
      ]
     },
     "execution_count": 12,
     "metadata": {},
     "output_type": "execute_result"
    }
   ],
   "source": [
    "df['category'].dtypes"
   ]
  },
  {
   "cell_type": "code",
   "execution_count": 13,
   "id": "68637a5f",
   "metadata": {},
   "outputs": [
    {
     "data": {
      "text/html": [
       "<div>\n",
       "<style scoped>\n",
       "    .dataframe tbody tr th:only-of-type {\n",
       "        vertical-align: middle;\n",
       "    }\n",
       "\n",
       "    .dataframe tbody tr th {\n",
       "        vertical-align: top;\n",
       "    }\n",
       "\n",
       "    .dataframe thead th {\n",
       "        text-align: right;\n",
       "    }\n",
       "</style>\n",
       "<table border=\"1\" class=\"dataframe\">\n",
       "  <thead>\n",
       "    <tr style=\"text-align: right;\">\n",
       "      <th></th>\n",
       "      <th>filename</th>\n",
       "      <th>category</th>\n",
       "    </tr>\n",
       "  </thead>\n",
       "  <tbody>\n",
       "    <tr>\n",
       "      <th>0</th>\n",
       "      <td>1.jpg</td>\n",
       "      <td>0</td>\n",
       "    </tr>\n",
       "    <tr>\n",
       "      <th>1</th>\n",
       "      <td>10.jpg</td>\n",
       "      <td>0</td>\n",
       "    </tr>\n",
       "    <tr>\n",
       "      <th>2</th>\n",
       "      <td>100.jpg</td>\n",
       "      <td>0</td>\n",
       "    </tr>\n",
       "    <tr>\n",
       "      <th>3</th>\n",
       "      <td>101.jpg</td>\n",
       "      <td>0</td>\n",
       "    </tr>\n",
       "    <tr>\n",
       "      <th>4</th>\n",
       "      <td>102.jpg</td>\n",
       "      <td>0</td>\n",
       "    </tr>\n",
       "    <tr>\n",
       "      <th>...</th>\n",
       "      <td>...</td>\n",
       "      <td>...</td>\n",
       "    </tr>\n",
       "    <tr>\n",
       "      <th>765</th>\n",
       "      <td>666.jpg</td>\n",
       "      <td>9</td>\n",
       "    </tr>\n",
       "    <tr>\n",
       "      <th>766</th>\n",
       "      <td>667.jpg</td>\n",
       "      <td>9</td>\n",
       "    </tr>\n",
       "    <tr>\n",
       "      <th>767</th>\n",
       "      <td>668.jpg</td>\n",
       "      <td>9</td>\n",
       "    </tr>\n",
       "    <tr>\n",
       "      <th>768</th>\n",
       "      <td>669.jpg</td>\n",
       "      <td>9</td>\n",
       "    </tr>\n",
       "    <tr>\n",
       "      <th>769</th>\n",
       "      <td>670.jpg</td>\n",
       "      <td>9</td>\n",
       "    </tr>\n",
       "  </tbody>\n",
       "</table>\n",
       "<p>770 rows × 2 columns</p>\n",
       "</div>"
      ],
      "text/plain": [
       "    filename category\n",
       "0      1.jpg        0\n",
       "1     10.jpg        0\n",
       "2    100.jpg        0\n",
       "3    101.jpg        0\n",
       "4    102.jpg        0\n",
       "..       ...      ...\n",
       "765  666.jpg        9\n",
       "766  667.jpg        9\n",
       "767  668.jpg        9\n",
       "768  669.jpg        9\n",
       "769  670.jpg        9\n",
       "\n",
       "[770 rows x 2 columns]"
      ]
     },
     "execution_count": 13,
     "metadata": {},
     "output_type": "execute_result"
    }
   ],
   "source": [
    "df"
   ]
  },
  {
   "cell_type": "code",
   "execution_count": 14,
   "id": "77f6e9ba",
   "metadata": {},
   "outputs": [
    {
     "name": "stdout",
     "output_type": "stream",
     "text": [
      "Found 770 validated image filenames belonging to 11 classes.\n"
     ]
    }
   ],
   "source": [
    "total_train=df.shape[0]\n",
    "batch_size=15\n",
    "\n",
    "# 트레이닝 데이터의 제너레이터 설정 \n",
    "train_datagen=ImageDataGenerator(\n",
    "        rotation_range=15,\n",
    "        rescale=1./255,\n",
    "        shear_range=0.1,\n",
    "        zoom_range=0.2,\n",
    "        horizontal_flip=True,\n",
    "        width_shift_range=0.1, \n",
    "        height_shift_range=0.1)\n",
    "        \n",
    "train_generator=train_datagen.flow_from_dataframe(\n",
    "    df, \n",
    "    new_path,\n",
    "    x_col = \"filename\", \n",
    "    y_col = \"category\",\n",
    "    target_size = IMAGE_SIZE,\n",
    "    class_mode = \"categorical\",\n",
    "    batch_size = batch_size )\n",
    "    "
   ]
  },
  {
   "cell_type": "markdown",
   "id": "9b163315",
   "metadata": {},
   "source": [
    "# Model Initialize"
   ]
  },
  {
   "cell_type": "code",
   "execution_count": 15,
   "id": "6c56664e",
   "metadata": {},
   "outputs": [
    {
     "name": "stdout",
     "output_type": "stream",
     "text": [
      "Model: \"sequential\"\n",
      "_________________________________________________________________\n",
      " Layer (type)                Output Shape              Param #   \n",
      "=================================================================\n",
      " resnet50 (Functional)       (None, 11)                23610251  \n",
      "                                                                 \n",
      "=================================================================\n",
      "Total params: 23,610,251\n",
      "Trainable params: 23,557,131\n",
      "Non-trainable params: 53,120\n",
      "_________________________________________________________________\n"
     ]
    }
   ],
   "source": [
    "from tensorflow.keras.applications import ResNet50\n",
    "from tensorflow.keras.models import Sequential\n",
    "from tensorflow.keras import layers\n",
    "\n",
    "model = Sequential()\n",
    "model.add(ResNet50(include_top=True, weights=None, input_shape=(112, 112, 3), classes=11))\n",
    "\n",
    "model.summary()"
   ]
  },
  {
   "cell_type": "code",
   "execution_count": 16,
   "id": "d7adaa0d",
   "metadata": {},
   "outputs": [],
   "source": [
    "model.compile(optimizer=\"Adam\", loss=\"mse\", metrics=['accuracy'])"
   ]
  },
  {
   "cell_type": "markdown",
   "id": "4f3a2284",
   "metadata": {},
   "source": [
    "# 테스트"
   ]
  },
  {
   "cell_type": "code",
   "execution_count": 17,
   "id": "d66ff93c",
   "metadata": {},
   "outputs": [],
   "source": [
    "test_path = './datasets/test/'"
   ]
  },
  {
   "cell_type": "code",
   "execution_count": 18,
   "id": "69bffa76",
   "metadata": {},
   "outputs": [
    {
     "data": {
      "text/html": [
       "<div>\n",
       "<style scoped>\n",
       "    .dataframe tbody tr th:only-of-type {\n",
       "        vertical-align: middle;\n",
       "    }\n",
       "\n",
       "    .dataframe tbody tr th {\n",
       "        vertical-align: top;\n",
       "    }\n",
       "\n",
       "    .dataframe thead th {\n",
       "        text-align: right;\n",
       "    }\n",
       "</style>\n",
       "<table border=\"1\" class=\"dataframe\">\n",
       "  <thead>\n",
       "    <tr style=\"text-align: right;\">\n",
       "      <th></th>\n",
       "      <th>filename</th>\n",
       "    </tr>\n",
       "  </thead>\n",
       "  <tbody>\n",
       "    <tr>\n",
       "      <th>0</th>\n",
       "      <td>110.jpg</td>\n",
       "    </tr>\n",
       "    <tr>\n",
       "      <th>1</th>\n",
       "      <td>129.jpg</td>\n",
       "    </tr>\n",
       "    <tr>\n",
       "      <th>2</th>\n",
       "      <td>706.jpg</td>\n",
       "    </tr>\n",
       "    <tr>\n",
       "      <th>3</th>\n",
       "      <td>707.jpg</td>\n",
       "    </tr>\n",
       "    <tr>\n",
       "      <th>4</th>\n",
       "      <td>708.jpg</td>\n",
       "    </tr>\n",
       "    <tr>\n",
       "      <th>...</th>\n",
       "      <td>...</td>\n",
       "    </tr>\n",
       "    <tr>\n",
       "      <th>79</th>\n",
       "      <td>302.jpg</td>\n",
       "    </tr>\n",
       "    <tr>\n",
       "      <th>80</th>\n",
       "      <td>384.jpg</td>\n",
       "    </tr>\n",
       "    <tr>\n",
       "      <th>81</th>\n",
       "      <td>487.jpg</td>\n",
       "    </tr>\n",
       "    <tr>\n",
       "      <th>82</th>\n",
       "      <td>575.jpg</td>\n",
       "    </tr>\n",
       "    <tr>\n",
       "      <th>83</th>\n",
       "      <td>671.jpg</td>\n",
       "    </tr>\n",
       "  </tbody>\n",
       "</table>\n",
       "<p>84 rows × 1 columns</p>\n",
       "</div>"
      ],
      "text/plain": [
       "   filename\n",
       "0   110.jpg\n",
       "1   129.jpg\n",
       "2   706.jpg\n",
       "3   707.jpg\n",
       "4   708.jpg\n",
       "..      ...\n",
       "79  302.jpg\n",
       "80  384.jpg\n",
       "81  487.jpg\n",
       "82  575.jpg\n",
       "83  671.jpg\n",
       "\n",
       "[84 rows x 1 columns]"
      ]
     },
     "execution_count": 18,
     "metadata": {},
     "output_type": "execute_result"
    }
   ],
   "source": [
    "#  테스트 데이터 준비 \n",
    "foldernames = os.listdir(test_path)\n",
    "all_filenames=[]  # 전체 폴더 파일\n",
    "\n",
    "for foldername in foldernames:\n",
    "    filenames = os.listdir(test_path+foldernames[int(foldername)])\n",
    "    all_filenames.extend(filenames) # 폴더별 전체 파일 더하기\n",
    "    \n",
    "    for filename in filenames:\n",
    "        categories.append(int(foldername)) # 몇번째 폴덩인지로 클래스 이름 정하기\n",
    "\n",
    "        \n",
    "test_df=pd.DataFrame({\"filename\":all_filenames,})        \n",
    "test_df"
   ]
  },
  {
   "cell_type": "code",
   "execution_count": 19,
   "id": "4e9fd34f",
   "metadata": {},
   "outputs": [],
   "source": [
    "nbsamples=test_df.shape[0]"
   ]
  },
  {
   "cell_type": "code",
   "execution_count": 20,
   "id": "25c6626d",
   "metadata": {},
   "outputs": [
    {
     "name": "stdout",
     "output_type": "stream",
     "text": [
      "Found 84 validated image filenames.\n"
     ]
    }
   ],
   "source": [
    "test_datagen=ImageDataGenerator(rescale=1./255)\n",
    "# 테스트 이미지니까, 사진 그대로 씀\n",
    "test_generator=test_datagen.flow_from_dataframe(\n",
    "    test_df,\n",
    "    test_new_path,\n",
    "    x_col= \"filename\",\n",
    "    y_col= None,\n",
    "    target_size = IMAGE_SIZE,\n",
    "    class_mode = None,\n",
    "    batch_size = batch_size,\n",
    "    shuffle = False)"
   ]
  },
  {
   "cell_type": "markdown",
   "id": "5c048d85",
   "metadata": {},
   "source": [
    "# Training"
   ]
  },
  {
   "cell_type": "code",
   "execution_count": 21,
   "id": "39c11e7c",
   "metadata": {},
   "outputs": [
    {
     "name": "stdout",
     "output_type": "stream",
     "text": [
      "Epoch 1/3\n"
     ]
    },
    {
     "name": "stderr",
     "output_type": "stream",
     "text": [
      "C:\\Python\\lib\\site-packages\\ipykernel_launcher.py:6: UserWarning: `Model.fit_generator` is deprecated and will be removed in a future version. Please use `Model.fit`, which supports generators.\n",
      "  \n"
     ]
    },
    {
     "name": "stdout",
     "output_type": "stream",
     "text": [
      "52/52 [==============================] - 17s 228ms/step - loss: 0.1531 - accuracy: 0.1169 - val_loss: 0.0000e+00 - val_accuracy: 0.0000e+00\n",
      "Epoch 2/3\n",
      "52/52 [==============================] - 11s 215ms/step - loss: 0.1596 - accuracy: 0.1208 - val_loss: 0.0000e+00 - val_accuracy: 0.0000e+00\n",
      "Epoch 3/3\n",
      "52/52 [==============================] - 11s 215ms/step - loss: 0.1577 - accuracy: 0.1312 - val_loss: 0.0000e+00 - val_accuracy: 0.0000e+00\n"
     ]
    }
   ],
   "source": [
    "epochs = 3 \n",
    "\n",
    "history = model.fit_generator(\n",
    "    train_generator, \n",
    "    epochs = epochs,\n",
    "    validation_data=  test_generator,\n",
    ")\n",
    "\n",
    "# 모델 저장 \n",
    "model.save_weights(\"model.h5\")"
   ]
  },
  {
   "cell_type": "code",
   "execution_count": 22,
   "id": "1c99b2dd",
   "metadata": {},
   "outputs": [],
   "source": [
    "historyDict = history.history\n",
    "\n",
    "acc = history.history['accuracy']\n",
    "val_acc = history.history['val_accuracy']\n",
    "loss = history.history['loss']\n",
    "val_loss = history.history['val_loss']"
   ]
  },
  {
   "cell_type": "code",
   "execution_count": 23,
   "id": "8dd17b42",
   "metadata": {},
   "outputs": [
    {
     "data": {
      "image/png": "[encoded data removed]",
      "text/plain": [
       "<Figure size 432x288 with 1 Axes>"
      ]
     },
     "metadata": {
      "needs_background": "light"
     },
     "output_type": "display_data"
    }
   ],
   "source": [
    "epo = range(1, len(acc)+1)\n",
    "plt.plot(epo, loss, 'bp', label=\"Training loss\")\n",
    "plt.plot(epo, val_loss, 'b', label=\"Val loss\")\n",
    "plt.xlabel(\"epoch\")\n",
    "plt.ylabel(\"Loss\")\n",
    "plt.legend()\n",
    "plt.show()"
   ]
  },
  {
   "cell_type": "code",
   "execution_count": 24,
   "id": "811ce50c",
   "metadata": {},
   "outputs": [
    {
     "data": {
      "image/png": "[encoded data removed]",
      "text/plain": [
       "<Figure size 432x288 with 1 Axes>"
      ]
     },
     "metadata": {
      "needs_background": "light"
     },
     "output_type": "display_data"
    }
   ],
   "source": [
    "plt.plot(epo, acc, 'ro', label=\"Training accuracy\")\n",
    "plt.plot(epo, val_acc, 'r', label=\"Val accuracy\")\n",
    "plt.xlabel(\"epoch\")\n",
    "plt.ylabel(\"Accuracy\")\n",
    "plt.legend()\n",
    "plt.show()"
   ]
  }
 ],
 "metadata": {
  "kernelspec": {
   "display_name": "Python 3 (ipykernel)",
   "language": "python",
   "name": "python3"
  },
  "language_info": {
   "codemirror_mode": {
    "name": "ipython",
    "version": 3
   },
   "file_extension": ".py",
   "mimetype": "text/x-python",
   "name": "python",
   "nbconvert_exporter": "python",
   "pygments_lexer": "ipython3",
   "version": "3.7.9"
  }
 },
 "nbformat": 4,
 "nbformat_minor": 5
}
