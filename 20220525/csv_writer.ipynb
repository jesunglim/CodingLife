{
 "cells": [
  {
   "cell_type": "code",
   "execution_count": 1,
   "id": "8d227478",
   "metadata": {},
   "outputs": [],
   "source": [
    "import os\n",
    "import csv"
   ]
  },
  {
   "cell_type": "code",
   "execution_count": 2,
   "id": "5045b54f",
   "metadata": {},
   "outputs": [],
   "source": [
    "msk_path = 'C:/Users/jesung/github/facemask-removal/datasets/celeba/images/celeba512_30k_masked'\n",
    "\n",
    "bin_path = 'C:/Users/jesung/github/facemask-removal/datasets/celeba/images/celeba512_30k_binary'"
   ]
  },
  {
   "cell_type": "code",
   "execution_count": 3,
   "id": "0095be8a",
   "metadata": {},
   "outputs": [],
   "source": [
    "msk_list = os.listdir(msk_path)\n",
    "bin_list   = os.listdir(bin_path)"
   ]
  },
  {
   "cell_type": "code",
   "execution_count": 4,
   "id": "8a09d8f8",
   "metadata": {},
   "outputs": [
    {
     "data": {
      "text/plain": [
       "196999"
      ]
     },
     "execution_count": 4,
     "metadata": {},
     "output_type": "execute_result"
    }
   ],
   "source": [
    "len(msk_list)"
   ]
  },
  {
   "cell_type": "code",
   "execution_count": 5,
   "id": "c674dd67",
   "metadata": {},
   "outputs": [
    {
     "data": {
      "text/plain": [
       "196999"
      ]
     },
     "execution_count": 5,
     "metadata": {},
     "output_type": "execute_result"
    }
   ],
   "source": [
    "len(bin_list)"
   ]
  },
  {
   "cell_type": "code",
   "execution_count": 6,
   "id": "d020cdf3",
   "metadata": {},
   "outputs": [],
   "source": [
    "iter = list(range(len(msk_list)))"
   ]
  },
  {
   "cell_type": "code",
   "execution_count": null,
   "id": "b381a463",
   "metadata": {},
   "outputs": [],
   "source": []
  },
  {
   "cell_type": "code",
   "execution_count": 13,
   "id": "bc909bba",
   "metadata": {},
   "outputs": [],
   "source": [
    "train_msk = msk_list[:190000]\n",
    "val_msk   = msk_list[190000:]\n",
    "\n",
    "train_bin = bin_list[:190000]\n",
    "val_bin   = bin_list[190000:]\n",
    "\n",
    "train_iter = list(range(len(train_msk)))\n",
    "val_iter   = list(range(len(val_msk)))"
   ]
  },
  {
   "cell_type": "code",
   "execution_count": null,
   "id": "f54ec489",
   "metadata": {},
   "outputs": [],
   "source": []
  },
  {
   "cell_type": "code",
   "execution_count": 7,
   "id": "6cc889db",
   "metadata": {},
   "outputs": [],
   "source": [
    "file = open(\"train.csv\", \"w\")\n",
    "writer = csv.writer(file)\n",
    "\n",
    "for w in range( len(train_msk)):\n",
    "    writer.writerow([train_iter[w], train_msk[w], train_bin[w]])"
   ]
  },
  {
   "cell_type": "code",
   "execution_count": null,
   "id": "4a9e5d50",
   "metadata": {},
   "outputs": [],
   "source": [
    "file = open(\"val.csv\", \"w\")\n",
    "writer = csv.writer(file)\n",
    "\n",
    "for w in range( len(val_msk)):\n",
    "    writer.writerow([val_iter[w], val_msk[w], val_bin[w]])"
   ]
  },
  {
   "cell_type": "code",
   "execution_count": null,
   "id": "4dbc8d50",
   "metadata": {},
   "outputs": [],
   "source": []
  },
  {
   "cell_type": "code",
   "execution_count": null,
   "id": "10382f1a",
   "metadata": {},
   "outputs": [],
   "source": []
  },
  {
   "cell_type": "code",
   "execution_count": null,
   "id": "89060ade",
   "metadata": {},
   "outputs": [],
   "source": []
  },
  {
   "cell_type": "code",
   "execution_count": null,
   "id": "c92d4ca3",
   "metadata": {},
   "outputs": [],
   "source": []
  }
 ],
 "metadata": {
  "kernelspec": {
   "display_name": "Python 3 (ipykernel)",
   "language": "python",
   "name": "python3"
  },
  "language_info": {
   "codemirror_mode": {
    "name": "ipython",
    "version": 3
   },
   "file_extension": ".py",
   "mimetype": "text/x-python",
   "name": "python",
   "nbconvert_exporter": "python",
   "pygments_lexer": "ipython3",
   "version": "3.9.7"
  }
 },
 "nbformat": 4,
 "nbformat_minor": 5
}
