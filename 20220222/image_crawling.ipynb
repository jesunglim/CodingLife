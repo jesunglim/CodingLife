{
 "cells": [
  {
   "cell_type": "code",
   "execution_count": 1,
   "id": "2172cef8",
   "metadata": {},
   "outputs": [],
   "source": [
    "from urllib.request import urlretrieve\n",
    "from urllib.parse import quote_plus    \n",
    "from bs4 import BeautifulSoup as BS    \n",
    "from selenium import webdriver    "
   ]
  },
  {
   "cell_type": "code",
   "execution_count": 2,
   "id": "d9a94ba6",
   "metadata": {},
   "outputs": [
    {
     "name": "stdout",
     "output_type": "stream",
     "text": [
      "Image Name : cat\n"
     ]
    }
   ],
   "source": [
    "keyword = input(\"Image Name : \")\n",
    "i_URL = f'https://www.google.com/search?q={quote_plus(keyword)}&sxsrf=ALeKk00OQamJ34t56QSInnMzwcC5gC344w:1594968011157&source=lnms&tbm=isch&sa=X&ved=2ahUKEwjXs-7t1tPqAhVF7GEKHfM4DqsQ_AUoAXoECBoQAw&biw=1536&bih=754'"
   ]
  },
  {
   "cell_type": "code",
   "execution_count": 3,
   "id": "1e52e33c",
   "metadata": {},
   "outputs": [],
   "source": [
    "driver=webdriver.Chrome() #크롬 드라이버\n",
    "options = webdriver.ChromeOptions()\n",
    "options.add_experimental_option('excludeSwitches', ['enable-logging'])\n",
    "driver.get(i_URL)"
   ]
  },
  {
   "cell_type": "code",
   "execution_count": 4,
   "id": "93e20a19",
   "metadata": {},
   "outputs": [
    {
     "name": "stdout",
     "output_type": "stream",
     "text": [
      "Searching...\n",
      "Downloading...\n",
      "FINISH\n"
     ]
    }
   ],
   "source": [
    "html = driver.page_source\n",
    "soup = BS(html,features=\"html.parser\")\n",
    "\n",
    "img = soup.select('img')\n",
    "\n",
    "i_list = []\n",
    "count = 1\n",
    "\n",
    "print(\"Searching...\")\n",
    "for i in img:\n",
    "   try:\n",
    "      i_list.append(i.attrs[\"src\"])\n",
    "   except KeyError:\n",
    "      i_list.append(i.attrs[\"data-src\"])\n",
    "\n",
    "print(\"Downloading...\")\n",
    "for i in i_list:\n",
    "   urlretrieve(i,\"cat_img\\\\\"+keyword+str(count)+\".jpg\")\n",
    "   count+=1\n",
    "\n",
    "driver.close()\n",
    "print(\"FINISH\")"
   ]
  },
  {
   "cell_type": "code",
   "execution_count": null,
   "id": "d8267de9",
   "metadata": {},
   "outputs": [],
   "source": []
  },
  {
   "cell_type": "code",
   "execution_count": null,
   "id": "fb58c611",
   "metadata": {},
   "outputs": [],
   "source": []
  },
  {
   "cell_type": "code",
   "execution_count": null,
   "id": "d2d7f6d5",
   "metadata": {},
   "outputs": [],
   "source": []
  }
 ],
 "metadata": {
  "kernelspec": {
   "display_name": "Python 3 (ipykernel)",
   "language": "python",
   "name": "python3"
  },
  "language_info": {
   "codemirror_mode": {
    "name": "ipython",
    "version": 3
   },
   "file_extension": ".py",
   "mimetype": "text/x-python",
   "name": "python",
   "nbconvert_exporter": "python",
   "pygments_lexer": "ipython3",
   "version": "3.9.9"
  }
 },
 "nbformat": 4,
 "nbformat_minor": 5
}
