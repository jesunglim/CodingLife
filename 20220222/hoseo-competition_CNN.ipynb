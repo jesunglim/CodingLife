{
 "cells": [
  {
   "cell_type": "code",
   "execution_count": 1,
   "id": "21e21d43",
   "metadata": {},
   "outputs": [],
   "source": [
    "# data analysis and wrangling\n",
    "import numpy as np\n",
    "import pandas as pd\n",
    "import json\n",
    "\n",
    "# data standardization\n",
    "from sklearn.preprocessing import RobustScaler\n",
    "from sklearn.preprocessing import StandardScaler\n",
    "from sklearn.preprocessing import MinMaxScaler\n",
    "\n",
    "# data visualization\n",
    "import seaborn as sns\n",
    "import matplotlib.pyplot as plt\n",
    "\n",
    "# deep learning\n",
    "from keras import models\n",
    "from keras import layers\n",
    "from tensorflow.keras.utils import to_categorical"
   ]
  },
  {
   "cell_type": "code",
   "execution_count": 2,
   "id": "db8d39b0",
   "metadata": {},
   "outputs": [],
   "source": [
    "train_df = pd.read_csv(\"preprocessed_train.csv\", encoding='euc-kr')"
   ]
  },
  {
   "cell_type": "code",
   "execution_count": 3,
   "id": "80a0071f",
   "metadata": {
    "scrolled": true
   },
   "outputs": [
    {
     "data": {
      "text/html": [
       "<div>\n",
       "<style scoped>\n",
       "    .dataframe tbody tr th:only-of-type {\n",
       "        vertical-align: middle;\n",
       "    }\n",
       "\n",
       "    .dataframe tbody tr th {\n",
       "        vertical-align: top;\n",
       "    }\n",
       "\n",
       "    .dataframe thead th {\n",
       "        text-align: right;\n",
       "    }\n",
       "</style>\n",
       "<table border=\"1\" class=\"dataframe\">\n",
       "  <thead>\n",
       "    <tr style=\"text-align: right;\">\n",
       "      <th></th>\n",
       "      <th>분석데이터</th>\n",
       "      <th>label</th>\n",
       "      <th>numstrings</th>\n",
       "      <th>avlength</th>\n",
       "      <th>printables</th>\n",
       "      <th>entropy</th>\n",
       "      <th>paths</th>\n",
       "      <th>urls</th>\n",
       "      <th>registry</th>\n",
       "      <th>MZ</th>\n",
       "      <th>...</th>\n",
       "      <th>dist_86</th>\n",
       "      <th>dist_87</th>\n",
       "      <th>dist_88</th>\n",
       "      <th>dist_89</th>\n",
       "      <th>dist_90</th>\n",
       "      <th>dist_91</th>\n",
       "      <th>dist_92</th>\n",
       "      <th>dist_93</th>\n",
       "      <th>dist_94</th>\n",
       "      <th>dist_95</th>\n",
       "    </tr>\n",
       "  </thead>\n",
       "  <tbody>\n",
       "    <tr>\n",
       "      <th>0</th>\n",
       "      <td>1</td>\n",
       "      <td>1</td>\n",
       "      <td>144</td>\n",
       "      <td>12.298611</td>\n",
       "      <td>1771</td>\n",
       "      <td>5.356616</td>\n",
       "      <td>0</td>\n",
       "      <td>0</td>\n",
       "      <td>0</td>\n",
       "      <td>1</td>\n",
       "      <td>...</td>\n",
       "      <td>10</td>\n",
       "      <td>4</td>\n",
       "      <td>10</td>\n",
       "      <td>9</td>\n",
       "      <td>4</td>\n",
       "      <td>0</td>\n",
       "      <td>1</td>\n",
       "      <td>0</td>\n",
       "      <td>0</td>\n",
       "      <td>0</td>\n",
       "    </tr>\n",
       "    <tr>\n",
       "      <th>1</th>\n",
       "      <td>2</td>\n",
       "      <td>1</td>\n",
       "      <td>804</td>\n",
       "      <td>9.580846</td>\n",
       "      <td>7703</td>\n",
       "      <td>6.063542</td>\n",
       "      <td>0</td>\n",
       "      <td>0</td>\n",
       "      <td>0</td>\n",
       "      <td>6</td>\n",
       "      <td>...</td>\n",
       "      <td>43</td>\n",
       "      <td>121</td>\n",
       "      <td>84</td>\n",
       "      <td>78</td>\n",
       "      <td>47</td>\n",
       "      <td>36</td>\n",
       "      <td>40</td>\n",
       "      <td>45</td>\n",
       "      <td>27</td>\n",
       "      <td>36</td>\n",
       "    </tr>\n",
       "    <tr>\n",
       "      <th>2</th>\n",
       "      <td>3</td>\n",
       "      <td>0</td>\n",
       "      <td>2205</td>\n",
       "      <td>12.736054</td>\n",
       "      <td>28083</td>\n",
       "      <td>6.107050</td>\n",
       "      <td>9</td>\n",
       "      <td>0</td>\n",
       "      <td>0</td>\n",
       "      <td>6</td>\n",
       "      <td>...</td>\n",
       "      <td>326</td>\n",
       "      <td>268</td>\n",
       "      <td>239</td>\n",
       "      <td>286</td>\n",
       "      <td>199</td>\n",
       "      <td>148</td>\n",
       "      <td>154</td>\n",
       "      <td>37</td>\n",
       "      <td>48</td>\n",
       "      <td>36</td>\n",
       "    </tr>\n",
       "    <tr>\n",
       "      <th>3</th>\n",
       "      <td>4</td>\n",
       "      <td>0</td>\n",
       "      <td>2602</td>\n",
       "      <td>10.288240</td>\n",
       "      <td>26770</td>\n",
       "      <td>5.373013</td>\n",
       "      <td>8</td>\n",
       "      <td>0</td>\n",
       "      <td>0</td>\n",
       "      <td>1</td>\n",
       "      <td>...</td>\n",
       "      <td>336</td>\n",
       "      <td>230</td>\n",
       "      <td>206</td>\n",
       "      <td>245</td>\n",
       "      <td>76</td>\n",
       "      <td>0</td>\n",
       "      <td>26</td>\n",
       "      <td>702</td>\n",
       "      <td>1</td>\n",
       "      <td>5</td>\n",
       "    </tr>\n",
       "    <tr>\n",
       "      <th>4</th>\n",
       "      <td>5</td>\n",
       "      <td>1</td>\n",
       "      <td>8980</td>\n",
       "      <td>23.252339</td>\n",
       "      <td>208806</td>\n",
       "      <td>5.775223</td>\n",
       "      <td>0</td>\n",
       "      <td>28</td>\n",
       "      <td>16</td>\n",
       "      <td>3</td>\n",
       "      <td>...</td>\n",
       "      <td>731</td>\n",
       "      <td>882</td>\n",
       "      <td>1171</td>\n",
       "      <td>1010</td>\n",
       "      <td>322</td>\n",
       "      <td>64</td>\n",
       "      <td>327</td>\n",
       "      <td>84</td>\n",
       "      <td>75</td>\n",
       "      <td>244</td>\n",
       "    </tr>\n",
       "    <tr>\n",
       "      <th>...</th>\n",
       "      <td>...</td>\n",
       "      <td>...</td>\n",
       "      <td>...</td>\n",
       "      <td>...</td>\n",
       "      <td>...</td>\n",
       "      <td>...</td>\n",
       "      <td>...</td>\n",
       "      <td>...</td>\n",
       "      <td>...</td>\n",
       "      <td>...</td>\n",
       "      <td>...</td>\n",
       "      <td>...</td>\n",
       "      <td>...</td>\n",
       "      <td>...</td>\n",
       "      <td>...</td>\n",
       "      <td>...</td>\n",
       "      <td>...</td>\n",
       "      <td>...</td>\n",
       "      <td>...</td>\n",
       "      <td>...</td>\n",
       "      <td>...</td>\n",
       "    </tr>\n",
       "    <tr>\n",
       "      <th>9995</th>\n",
       "      <td>9996</td>\n",
       "      <td>1</td>\n",
       "      <td>2018</td>\n",
       "      <td>13.938057</td>\n",
       "      <td>28127</td>\n",
       "      <td>5.940442</td>\n",
       "      <td>0</td>\n",
       "      <td>70</td>\n",
       "      <td>0</td>\n",
       "      <td>11</td>\n",
       "      <td>...</td>\n",
       "      <td>246</td>\n",
       "      <td>186</td>\n",
       "      <td>206</td>\n",
       "      <td>235</td>\n",
       "      <td>88</td>\n",
       "      <td>33</td>\n",
       "      <td>81</td>\n",
       "      <td>58</td>\n",
       "      <td>61</td>\n",
       "      <td>72</td>\n",
       "    </tr>\n",
       "    <tr>\n",
       "      <th>9996</th>\n",
       "      <td>9997</td>\n",
       "      <td>0</td>\n",
       "      <td>1105</td>\n",
       "      <td>16.437104</td>\n",
       "      <td>18163</td>\n",
       "      <td>5.766962</td>\n",
       "      <td>0</td>\n",
       "      <td>11</td>\n",
       "      <td>0</td>\n",
       "      <td>3</td>\n",
       "      <td>...</td>\n",
       "      <td>199</td>\n",
       "      <td>57</td>\n",
       "      <td>134</td>\n",
       "      <td>123</td>\n",
       "      <td>20</td>\n",
       "      <td>25</td>\n",
       "      <td>28</td>\n",
       "      <td>25</td>\n",
       "      <td>41</td>\n",
       "      <td>13</td>\n",
       "    </tr>\n",
       "    <tr>\n",
       "      <th>9997</th>\n",
       "      <td>9998</td>\n",
       "      <td>0</td>\n",
       "      <td>4</td>\n",
       "      <td>58.500000</td>\n",
       "      <td>234</td>\n",
       "      <td>3.811827</td>\n",
       "      <td>0</td>\n",
       "      <td>0</td>\n",
       "      <td>0</td>\n",
       "      <td>1</td>\n",
       "      <td>...</td>\n",
       "      <td>0</td>\n",
       "      <td>0</td>\n",
       "      <td>0</td>\n",
       "      <td>0</td>\n",
       "      <td>0</td>\n",
       "      <td>0</td>\n",
       "      <td>0</td>\n",
       "      <td>0</td>\n",
       "      <td>0</td>\n",
       "      <td>0</td>\n",
       "    </tr>\n",
       "    <tr>\n",
       "      <th>9998</th>\n",
       "      <td>9999</td>\n",
       "      <td>1</td>\n",
       "      <td>3312</td>\n",
       "      <td>24.939312</td>\n",
       "      <td>82599</td>\n",
       "      <td>5.834730</td>\n",
       "      <td>0</td>\n",
       "      <td>39</td>\n",
       "      <td>0</td>\n",
       "      <td>8</td>\n",
       "      <td>...</td>\n",
       "      <td>438</td>\n",
       "      <td>985</td>\n",
       "      <td>806</td>\n",
       "      <td>851</td>\n",
       "      <td>113</td>\n",
       "      <td>123</td>\n",
       "      <td>181</td>\n",
       "      <td>100</td>\n",
       "      <td>75</td>\n",
       "      <td>86</td>\n",
       "    </tr>\n",
       "    <tr>\n",
       "      <th>9999</th>\n",
       "      <td>10000</td>\n",
       "      <td>0</td>\n",
       "      <td>655</td>\n",
       "      <td>6.077863</td>\n",
       "      <td>3981</td>\n",
       "      <td>6.519481</td>\n",
       "      <td>0</td>\n",
       "      <td>0</td>\n",
       "      <td>0</td>\n",
       "      <td>4</td>\n",
       "      <td>...</td>\n",
       "      <td>44</td>\n",
       "      <td>32</td>\n",
       "      <td>26</td>\n",
       "      <td>32</td>\n",
       "      <td>28</td>\n",
       "      <td>30</td>\n",
       "      <td>33</td>\n",
       "      <td>23</td>\n",
       "      <td>26</td>\n",
       "      <td>32</td>\n",
       "    </tr>\n",
       "  </tbody>\n",
       "</table>\n",
       "<p>10000 rows × 618 columns</p>\n",
       "</div>"
      ],
      "text/plain": [
       "      분석데이터  label  numstrings   avlength  printables   entropy  paths  urls  \\\n",
       "0         1      1         144  12.298611        1771  5.356616      0     0   \n",
       "1         2      1         804   9.580846        7703  6.063542      0     0   \n",
       "2         3      0        2205  12.736054       28083  6.107050      9     0   \n",
       "3         4      0        2602  10.288240       26770  5.373013      8     0   \n",
       "4         5      1        8980  23.252339      208806  5.775223      0    28   \n",
       "...     ...    ...         ...        ...         ...       ...    ...   ...   \n",
       "9995   9996      1        2018  13.938057       28127  5.940442      0    70   \n",
       "9996   9997      0        1105  16.437104       18163  5.766962      0    11   \n",
       "9997   9998      0           4  58.500000         234  3.811827      0     0   \n",
       "9998   9999      1        3312  24.939312       82599  5.834730      0    39   \n",
       "9999  10000      0         655   6.077863        3981  6.519481      0     0   \n",
       "\n",
       "      registry  MZ  ...  dist_86  dist_87  dist_88  dist_89  dist_90  dist_91  \\\n",
       "0            0   1  ...       10        4       10        9        4        0   \n",
       "1            0   6  ...       43      121       84       78       47       36   \n",
       "2            0   6  ...      326      268      239      286      199      148   \n",
       "3            0   1  ...      336      230      206      245       76        0   \n",
       "4           16   3  ...      731      882     1171     1010      322       64   \n",
       "...        ...  ..  ...      ...      ...      ...      ...      ...      ...   \n",
       "9995         0  11  ...      246      186      206      235       88       33   \n",
       "9996         0   3  ...      199       57      134      123       20       25   \n",
       "9997         0   1  ...        0        0        0        0        0        0   \n",
       "9998         0   8  ...      438      985      806      851      113      123   \n",
       "9999         0   4  ...       44       32       26       32       28       30   \n",
       "\n",
       "      dist_92  dist_93  dist_94  dist_95  \n",
       "0           1        0        0        0  \n",
       "1          40       45       27       36  \n",
       "2         154       37       48       36  \n",
       "3          26      702        1        5  \n",
       "4         327       84       75      244  \n",
       "...       ...      ...      ...      ...  \n",
       "9995       81       58       61       72  \n",
       "9996       28       25       41       13  \n",
       "9997        0        0        0        0  \n",
       "9998      181      100       75       86  \n",
       "9999       33       23       26       32  \n",
       "\n",
       "[10000 rows x 618 columns]"
      ]
     },
     "execution_count": 3,
     "metadata": {},
     "output_type": "execute_result"
    }
   ],
   "source": [
    "train_df"
   ]
  },
  {
   "cell_type": "code",
   "execution_count": 4,
   "id": "94eb3f44",
   "metadata": {},
   "outputs": [],
   "source": [
    "train_df = train_df.drop(columns=['분석데이터'], axis=1)"
   ]
  },
  {
   "cell_type": "code",
   "execution_count": 5,
   "id": "2067c030",
   "metadata": {},
   "outputs": [],
   "source": [
    "train_images = train_df[:9000]\n",
    "train_labels = train_images['label']\n",
    "\n",
    "test_images = train_df[9000:]\n",
    "test_labels = test_images['label']\n",
    "\n",
    "\n",
    "train_images = train_images.drop(columns=['label'], axis=1)\n",
    "test_images = test_images.drop(columns=['label'], axis=1)"
   ]
  },
  {
   "cell_type": "code",
   "execution_count": 6,
   "id": "54cc1926",
   "metadata": {},
   "outputs": [
    {
     "data": {
      "text/plain": [
       "(9000, 616)"
      ]
     },
     "execution_count": 6,
     "metadata": {},
     "output_type": "execute_result"
    }
   ],
   "source": [
    "train_images.shape"
   ]
  },
  {
   "cell_type": "raw",
   "id": "5141419a",
   "metadata": {},
   "source": [
    "type(test_labels)"
   ]
  },
  {
   "cell_type": "code",
   "execution_count": 7,
   "id": "699669d6",
   "metadata": {},
   "outputs": [
    {
     "data": {
      "text/plain": [
       "(1000, 616)"
      ]
     },
     "execution_count": 7,
     "metadata": {},
     "output_type": "execute_result"
    }
   ],
   "source": [
    "test_images.shape"
   ]
  },
  {
   "cell_type": "code",
   "execution_count": 8,
   "id": "2c3959f5",
   "metadata": {},
   "outputs": [
    {
     "data": {
      "text/plain": [
       "(9000,)"
      ]
     },
     "execution_count": 8,
     "metadata": {},
     "output_type": "execute_result"
    }
   ],
   "source": [
    "train_labels.shape"
   ]
  },
  {
   "cell_type": "code",
   "execution_count": 9,
   "id": "3027e8da",
   "metadata": {},
   "outputs": [
    {
     "data": {
      "text/plain": [
       "(1000,)"
      ]
     },
     "execution_count": 9,
     "metadata": {},
     "output_type": "execute_result"
    }
   ],
   "source": [
    "test_labels.shape"
   ]
  },
  {
   "cell_type": "markdown",
   "id": "e708951e",
   "metadata": {},
   "source": [
    "## 데이터 정형화"
   ]
  },
  {
   "cell_type": "code",
   "execution_count": 10,
   "id": "c05464b6",
   "metadata": {},
   "outputs": [
    {
     "data": {
      "text/plain": [
       "numstrings    4.199740e+05\n",
       "avlength      5.447628e+04\n",
       "printables    2.179051e+07\n",
       "entropy       6.584918e+00\n",
       "paths         9.897000e+03\n",
       "                  ...     \n",
       "dist_91       8.483400e+04\n",
       "dist_92       3.760200e+04\n",
       "dist_93       5.353400e+04\n",
       "dist_94       2.446300e+04\n",
       "dist_95       2.450800e+04\n",
       "Length: 616, dtype: float64"
      ]
     },
     "execution_count": 10,
     "metadata": {},
     "output_type": "execute_result"
    }
   ],
   "source": [
    "train_images.max()"
   ]
  },
  {
   "cell_type": "code",
   "execution_count": 11,
   "id": "95288882",
   "metadata": {},
   "outputs": [
    {
     "data": {
      "text/plain": [
       "Index(['numstrings', 'avlength', 'printables', 'entropy', 'paths', 'urls',\n",
       "       'registry', 'MZ', 'a_0', 'a_1',\n",
       "       ...\n",
       "       'dist_86', 'dist_87', 'dist_88', 'dist_89', 'dist_90', 'dist_91',\n",
       "       'dist_92', 'dist_93', 'dist_94', 'dist_95'],\n",
       "      dtype='object', length=616)"
      ]
     },
     "execution_count": 11,
     "metadata": {},
     "output_type": "execute_result"
    }
   ],
   "source": [
    "train_images.columns"
   ]
  },
  {
   "cell_type": "code",
   "execution_count": 12,
   "id": "a4b7557d",
   "metadata": {},
   "outputs": [],
   "source": [
    "# MinMax는 이상치에 취약하다"
   ]
  },
  {
   "cell_type": "code",
   "execution_count": 13,
   "id": "b88ca050",
   "metadata": {},
   "outputs": [],
   "source": [
    "train_images = train_images.to_numpy()"
   ]
  },
  {
   "cell_type": "code",
   "execution_count": 14,
   "id": "345ba959",
   "metadata": {},
   "outputs": [],
   "source": [
    "scaler = RobustScaler()"
   ]
  },
  {
   "cell_type": "code",
   "execution_count": 15,
   "id": "a38700c9",
   "metadata": {},
   "outputs": [],
   "source": [
    "scaler.fit(train_images)\n",
    "train_images = scaler.transform(train_images)"
   ]
  },
  {
   "cell_type": "code",
   "execution_count": 16,
   "id": "3725bbe2",
   "metadata": {},
   "outputs": [],
   "source": [
    "scaler.fit(test_images)\n",
    "test_images = scaler.transform(test_images)"
   ]
  },
  {
   "cell_type": "code",
   "execution_count": 17,
   "id": "c7a4ffdc",
   "metadata": {},
   "outputs": [
    {
     "data": {
      "text/plain": [
       "array([[-3.21389709e-01, -2.12231511e-02, -2.68828645e-01, ...,\n",
       "        -2.38841978e-01, -2.37623762e-01, -2.16814159e-01],\n",
       "       [-2.18793720e-01, -2.81995880e-01, -1.96900113e-01, ...,\n",
       "        -2.17129071e-02, -1.03960396e-01, -5.75221239e-02],\n",
       "       [-1.01041505e-03,  2.07500408e-02,  5.02178045e-02, ...,\n",
       "        -6.03136309e-02,  0.00000000e+00, -5.75221239e-02],\n",
       "       ...,\n",
       "       [ 7.46541272e-01,  1.44205242e-02,  7.87267001e-01, ...,\n",
       "         9.91556092e-01,  1.89108911e+00,  7.25663717e-01],\n",
       "       [-2.73511581e-01,  1.40170444e+00, -1.41619908e-01, ...,\n",
       "        -2.09891435e-01, -1.63366337e-01, -1.99115044e-01],\n",
       "       [-2.93719882e-01,  1.80467142e-01, -2.34076930e-01, ...,\n",
       "        -2.14716526e-01, -1.98019802e-01, -1.90265487e-01]])"
      ]
     },
     "execution_count": 17,
     "metadata": {},
     "output_type": "execute_result"
    }
   ],
   "source": [
    "train_images"
   ]
  },
  {
   "cell_type": "code",
   "execution_count": 18,
   "id": "9fa5f39b",
   "metadata": {},
   "outputs": [
    {
     "data": {
      "text/plain": [
       "array([[-0.29223936, -0.13605312, -0.26185653, ..., -0.19379845,\n",
       "        -0.16783217, -0.18114603],\n",
       "       [-0.26230196,  0.03702695, -0.22914139, ..., -0.19379845,\n",
       "        -0.17182817, -0.16266174],\n",
       "       [ 0.04896303, -0.37241977, -0.03668537, ..., -0.13565891,\n",
       "        -0.04795205, -0.07393715],\n",
       "       ...,\n",
       "       [-0.30888679,  4.27248369, -0.27422762, ..., -0.20930233,\n",
       "        -0.1958042 , -0.18853974],\n",
       "       [ 0.15388382,  1.14536208,  0.61801824, ...,  0.17829457,\n",
       "         0.1038961 ,  0.12939002],\n",
       "       [-0.21781555, -0.61211214, -0.23363701, ..., -0.12015504,\n",
       "        -0.09190809, -0.0702403 ]])"
      ]
     },
     "execution_count": 18,
     "metadata": {},
     "output_type": "execute_result"
    }
   ],
   "source": [
    "test_images"
   ]
  },
  {
   "cell_type": "markdown",
   "id": "53cedb43",
   "metadata": {},
   "source": [
    "### resize array for image"
   ]
  },
  {
   "cell_type": "code",
   "execution_count": 19,
   "id": "812b8799",
   "metadata": {},
   "outputs": [],
   "source": [
    "x = train_images\n",
    "\n",
    "x1 = np.zeros((9000,22,28))\n",
    "\n",
    "for i in range(len(train_images)):\n",
    "    x1[i] = x[i].reshape((22,28))\n",
    "            \n",
    "train_images_pre = x1"
   ]
  },
  {
   "cell_type": "code",
   "execution_count": 20,
   "id": "81aa8840",
   "metadata": {},
   "outputs": [
    {
     "data": {
      "text/plain": [
       "(9000, 22, 28)"
      ]
     },
     "execution_count": 20,
     "metadata": {},
     "output_type": "execute_result"
    }
   ],
   "source": [
    "train_images_pre.shape"
   ]
  },
  {
   "cell_type": "code",
   "execution_count": 21,
   "id": "0b4f8406",
   "metadata": {},
   "outputs": [],
   "source": [
    "x = test_images\n",
    "\n",
    "x1 = np.zeros((1000,22,28))\n",
    "\n",
    "for i in range(len(test_images)):\n",
    "    x1[i] = x[i].reshape((22,28))\n",
    "            \n",
    "test_images_scaled_pre = x1"
   ]
  },
  {
   "cell_type": "code",
   "execution_count": 22,
   "id": "db5fb8ca",
   "metadata": {},
   "outputs": [
    {
     "data": {
      "text/plain": [
       "(1000, 22, 28)"
      ]
     },
     "execution_count": 22,
     "metadata": {},
     "output_type": "execute_result"
    }
   ],
   "source": [
    "test_images_scaled_pre.shape"
   ]
  },
  {
   "cell_type": "markdown",
   "id": "ce078ce7",
   "metadata": {},
   "source": [
    "## deep learning layer"
   ]
  },
  {
   "cell_type": "code",
   "execution_count": 23,
   "id": "906e0ae2",
   "metadata": {},
   "outputs": [],
   "source": [
    "network = models.Sequential()\n",
    "network.add(layers.Dense(512, activation='relu', input_shape=(22 * 28,)))\n",
    "network.add(layers.Dense(2, activation='softmax'))"
   ]
  },
  {
   "cell_type": "code",
   "execution_count": 24,
   "id": "07bd1c14",
   "metadata": {},
   "outputs": [],
   "source": [
    "network.compile(optimizer='rmsprop',\n",
    "                loss='categorical_crossentropy',\n",
    "                metrics=['accuracy'])"
   ]
  },
  {
   "cell_type": "code",
   "execution_count": 25,
   "id": "1e4e5872",
   "metadata": {},
   "outputs": [],
   "source": [
    "train_images = train_images_pre.reshape((9000, 22 * 28))\n",
    "train_images = train_images.astype('float32') / 255\n",
    "\n",
    "test_images = test_images_scaled_pre.reshape((1000, 22 * 28))\n",
    "test_images = test_images.astype('float32') / 255"
   ]
  },
  {
   "cell_type": "code",
   "execution_count": 26,
   "id": "6b8cf65f",
   "metadata": {},
   "outputs": [],
   "source": [
    "train_labels = to_categorical(train_labels)\n",
    "test_labels = to_categorical(test_labels)"
   ]
  },
  {
   "cell_type": "code",
   "execution_count": 27,
   "id": "4269b63b",
   "metadata": {},
   "outputs": [
    {
     "name": "stdout",
     "output_type": "stream",
     "text": [
      "Epoch 1/5\n",
      "71/71 [==============================] - 4s 4ms/step - loss: 1.3360 - accuracy: 0.6827\n",
      "Epoch 2/5\n",
      "71/71 [==============================] - 0s 3ms/step - loss: 1.0172 - accuracy: 0.7019\n",
      "Epoch 3/5\n",
      "71/71 [==============================] - 0s 2ms/step - loss: 0.7699 - accuracy: 0.7144\n",
      "Epoch 4/5\n",
      "71/71 [==============================] - 0s 2ms/step - loss: 0.8629 - accuracy: 0.7272\n",
      "Epoch 5/5\n",
      "71/71 [==============================] - 0s 2ms/step - loss: 0.8890 - accuracy: 0.7351\n"
     ]
    },
    {
     "data": {
      "text/plain": [
       "<keras.callbacks.History at 0x14811b0a8e0>"
      ]
     },
     "execution_count": 27,
     "metadata": {},
     "output_type": "execute_result"
    }
   ],
   "source": [
    "network.fit(train_images, train_labels, epochs=5, batch_size=128)"
   ]
  },
  {
   "cell_type": "code",
   "execution_count": 28,
   "id": "224613f7",
   "metadata": {},
   "outputs": [
    {
     "name": "stdout",
     "output_type": "stream",
     "text": [
      "32/32 [==============================] - 0s 2ms/step - loss: 0.6647 - accuracy: 0.7400\n"
     ]
    }
   ],
   "source": [
    "test_loss, test_acc = network.evaluate(test_images, test_labels)"
   ]
  },
  {
   "cell_type": "code",
   "execution_count": 29,
   "id": "ab7175ca",
   "metadata": {},
   "outputs": [
    {
     "name": "stdout",
     "output_type": "stream",
     "text": [
      "test_acc: 0.7400000095367432\n"
     ]
    }
   ],
   "source": [
    "print('test_acc:', test_acc)"
   ]
  },
  {
   "cell_type": "code",
   "execution_count": null,
   "id": "8bf74dc8",
   "metadata": {},
   "outputs": [],
   "source": []
  }
 ],
 "metadata": {
  "kernelspec": {
   "display_name": "Python 3 (ipykernel)",
   "language": "python",
   "name": "python3"
  },
  "language_info": {
   "codemirror_mode": {
    "name": "ipython",
    "version": 3
   },
   "file_extension": ".py",
   "mimetype": "text/x-python",
   "name": "python",
   "nbconvert_exporter": "python",
   "pygments_lexer": "ipython3",
   "version": "3.9.9"
  }
 },
 "nbformat": 4,
 "nbformat_minor": 5
}
